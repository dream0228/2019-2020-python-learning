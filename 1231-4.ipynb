{
 "cells": [
  {
   "cell_type": "code",
   "execution_count": 1,
   "metadata": {
    "collapsed": true
   },
   "outputs": [],
   "source": [
    "%matplotlib inline\n",
    "\n",
    "import numpy as np\n",
    "import matplotlib.pyplot as plt\n",
    "import pandas as pd"
   ]
  },
  {
   "cell_type": "markdown",
   "metadata": {},
   "source": [
    "### 找頁碼"
   ]
  },
  {
   "cell_type": "code",
   "execution_count": 6,
   "metadata": {},
   "outputs": [
    {
     "name": "stdout",
     "output_type": "stream",
     "text": [
      "主題頁碼\n"
     ]
    },
    {
     "data": {
      "application/vnd.jupyter.widget-view+json": {
       "model_id": "e25723be21fb4afda71ce9fea163cae8",
       "version_major": 2,
       "version_minor": 0
      },
      "text/plain": [
       "A Jupyter Widget"
      ]
     },
     "metadata": {},
     "output_type": "display_data"
    }
   ],
   "source": [
    "from ipywidgets import interact\n",
    "print(\"主題頁碼\")\n",
    "\n",
    "def Topic(主題):\n",
    "    print(主題)\n",
    "interact (Topic,主題=dict(頁碼=(\" \"),\n",
    "                           統計學概論=(\"Page 1\"),\n",
    "                           敘述統計學=(\"Page 15\"),\n",
    "                           古典機論論=(\"Page 65\"),\n",
    "                           隨機變數=(\"Page 103\"),\n",
    "                           多元隨機變數=(\"Page 161\"),\n",
    "                           常用機率分配族=(\"Page 225\"),\n",
    "                           抽樣方法與抽樣分配=(\"Page 301\"),\n",
    "                           點估計=(\"Page 345\"),\n",
    "                           區間估計=(\"Page 391\"),\n",
    "                           假說檢定=(\"Page 427\"),\n",
    "                           變異數分析=(\"Page 463\"),\n",
    "                           相關分析與線性回歸=(\"Page 517\"),\n",
    "                           卡方檢定與適合度檢定=(\"Page 571\"),\n",
    "                           其他非母數統計方法=(\"Page 593\"),\n",
    "                           統計決策理論=(\"Page 611\"),\n",
    "                           時間序列與指數=(\"Page 621\")));"
   ]
  },
  {
   "cell_type": "code",
   "execution_count": null,
   "metadata": {
    "collapsed": true
   },
   "outputs": [],
   "source": []
  }
 ],
 "metadata": {
  "kernelspec": {
   "display_name": "Python 3",
   "language": "python",
   "name": "python3"
  },
  "language_info": {
   "codemirror_mode": {
    "name": "ipython",
    "version": 3
   },
   "file_extension": ".py",
   "mimetype": "text/x-python",
   "name": "python",
   "nbconvert_exporter": "python",
   "pygments_lexer": "ipython3",
   "version": "3.6.2"
  }
 },
 "nbformat": 4,
 "nbformat_minor": 2
}

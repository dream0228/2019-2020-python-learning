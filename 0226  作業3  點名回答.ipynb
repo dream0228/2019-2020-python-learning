{
 "cells": [
  {
   "cell_type": "code",
   "execution_count": 12,
   "metadata": {
    "collapsed": true
   },
   "outputs": [],
   "source": [
    "%matplotlib inline\n",
    "\n",
    "import numpy as np\n",
    "import matplotlib.pyplot as plt\n",
    "import pandas as pd"
   ]
  },
  {
   "cell_type": "markdown",
   "metadata": {},
   "source": [
    "## 點名回答"
   ]
  },
  {
   "cell_type": "code",
   "execution_count": 13,
   "metadata": {
    "collapsed": true
   },
   "outputs": [],
   "source": [
    "from numpy.random import randint"
   ]
  },
  {
   "cell_type": "code",
   "execution_count": 23,
   "metadata": {
    "collapsed": true
   },
   "outputs": [],
   "source": [
    "classlist = '''           \n",
    "大雄\n",
    "胖虎\n",
    "靜香\n",
    "小夫\n",
    "海綿寶寶\n",
    "皮老闆\n",
    "謝老闆\n",
    "真真\n",
    "派大星\n",
    "章魚哥\n",
    "麵包超人\n",
    "吐司超人\n",
    "咖哩超人\n",
    "細菌人\n",
    "果醬爺爺\n",
    "野原新之助\n",
    "野原葵\n",
    "花橘子\n",
    "花柚子\n",
    "天線寶寶\n",
    "''' "
   ]
  },
  {
   "cell_type": "code",
   "execution_count": 24,
   "metadata": {
    "collapsed": true
   },
   "outputs": [],
   "source": [
    "select=classlist.split(\"\\n\")"
   ]
  },
  {
   "cell_type": "code",
   "execution_count": 25,
   "metadata": {},
   "outputs": [
    {
     "name": "stdout",
     "output_type": "stream",
     "text": [
      "😀今天要抽幾個人來回答阿?(請輸入數字1~20)\n",
      "3\n",
      "😀被抽中的人是 ['皮老闆', '謝老闆', '野原葵']\n"
     ]
    }
   ],
   "source": [
    "print(\"😀今天要抽幾個人來回答阿?(請輸入數字1~20)\")\n",
    "a=input(\"\")\n",
    "ran_select=random.sample(select,int(a))\n",
    "print(\"😀被抽中的人是\",ran_select)"
   ]
  },
  {
   "cell_type": "code",
   "execution_count": null,
   "metadata": {
    "collapsed": true
   },
   "outputs": [],
   "source": []
  }
 ],
 "metadata": {
  "kernelspec": {
   "display_name": "Python 3",
   "language": "python",
   "name": "python3"
  },
  "language_info": {
   "codemirror_mode": {
    "name": "ipython",
    "version": 3
   },
   "file_extension": ".py",
   "mimetype": "text/x-python",
   "name": "python",
   "nbconvert_exporter": "python",
   "pygments_lexer": "ipython3",
   "version": "3.6.2"
  }
 },
 "nbformat": 4,
 "nbformat_minor": 2
}

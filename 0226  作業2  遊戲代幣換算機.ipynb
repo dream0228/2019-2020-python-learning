{
 "cells": [
  {
   "cell_type": "code",
   "execution_count": 1,
   "metadata": {
    "collapsed": true
   },
   "outputs": [],
   "source": [
    "%matplotlib inline\n",
    "\n",
    "import numpy as np\n",
    "import matplotlib.pyplot as plt\n",
    "import pandas as pd"
   ]
  },
  {
   "cell_type": "markdown",
   "metadata": {},
   "source": [
    "### 遊戲代幣換算機"
   ]
  },
  {
   "cell_type": "code",
   "execution_count": 2,
   "metadata": {},
   "outputs": [
    {
     "name": "stdout",
     "output_type": "stream",
     "text": [
      "😀:您好，歡迎蒞臨哈哈熊遊戲城!請依照指示操作遊戲代幣換算機\n",
      "請投入您想兌換的金額(台幣/NTD):150\n",
      "您投入的金額為：150\n",
      "謝謝惠顧，您的代幣為： 100.00\n"
     ]
    }
   ],
   "source": [
    "print(\"😀:您好，歡迎蒞臨哈哈熊遊戲城!請依照指示操作遊戲代幣換算機\")\n",
    "NTD_VS_HAHA = 1.5\n",
    "haha_value = 0\n",
    "haha_str_value = input(\"請投入您想兌換的金額(台幣/NTD):\")\n",
    "print(\"您投入的金額為：\" + haha_str_value)\n",
    "try:\n",
    "    haha_value = eval(haha_str_value) #字串轉浮點數\n",
    "except:\n",
    "    print(\"請輸入金額\")\n",
    "else:\n",
    "    ntd = haha_value / NTD_VS_HAHA\n",
    "    print(\"謝謝惠顧，您的代幣為：\", format(ntd, '0,.2f'))\n"
   ]
  },
  {
   "cell_type": "code",
   "execution_count": null,
   "metadata": {
    "collapsed": true
   },
   "outputs": [],
   "source": []
  }
 ],
 "metadata": {
  "kernelspec": {
   "display_name": "Python 3",
   "language": "python",
   "name": "python3"
  },
  "language_info": {
   "codemirror_mode": {
    "name": "ipython",
    "version": 3
   },
   "file_extension": ".py",
   "mimetype": "text/x-python",
   "name": "python",
   "nbconvert_exporter": "python",
   "pygments_lexer": "ipython3",
   "version": "3.6.2"
  }
 },
 "nbformat": 4,
 "nbformat_minor": 2
}

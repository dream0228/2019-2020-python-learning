{
 "cells": [
  {
   "cell_type": "code",
   "execution_count": 1,
   "metadata": {
    "collapsed": true
   },
   "outputs": [],
   "source": [
    "%matplotlib inline\n",
    "\n",
    "import numpy as np\n",
    "import matplotlib.pyplot as plt\n",
    "import pandas as pd"
   ]
  },
  {
   "cell_type": "markdown",
   "metadata": {},
   "source": [
    "### 網路購物車"
   ]
  },
  {
   "cell_type": "code",
   "execution_count": 3,
   "metadata": {},
   "outputs": [
    {
     "name": "stdout",
     "output_type": "stream",
     "text": [
      "~歡迎蒞臨黑店網路商城~不限金額免運，請依照指示操作:\n",
      "請輸入購物金額度，再按enter： 100000\n",
      "---------------商品列表----------------\n",
      "No.0, 黑心肝, NT10000\n",
      "No.1, 大腸頭, NT9999\n",
      "No.2, 綠帽子, NT1\n",
      "No.3, 魔鏡, NT9950\n",
      "No.4, 一直掉的玻璃鞋, NT250\n",
      "No.5, 玫瑰花, NT50\n",
      "No.6, 魔藥福袋, NT1100\n",
      "No.7, 即期毒藥, NT38\n",
      "No.8, 好聽的聲音, NT25000\n",
      "No.9, 魔杖, NT449\n",
      "No.10, 國王的新衣, NT99\n",
      "\n",
      "請輸入購買商品編號（按enter購買，輸入 exit 結束此次購買）：2\n",
      "您已購買[綠帽子]，價值[NT1]，您的餘額：NT99999\n",
      "請輸入購買商品編號（按enter即購買，輸入 exit 結束此次購買）：9\n",
      "您已購買[魔杖]，價值[NT449]，您的餘額：NT99550\n",
      "請輸入購買商品編號（按enter即購買，輸入 exit 結束此次購買）：23\n",
      "查無此商品，請重新確認\n",
      "請輸入購買商品編號（按enter即購買，輸入 exit 結束此次購買）：4\n",
      "您已購買[一直掉的玻璃鞋]，價值[NT250]，您的餘額：NT99300\n",
      "請輸入購買商品編號（按enter即購買，輸入 exit 結束此次購買）：1\n",
      "您已購買[大腸頭]，價值[NT9999]，您的餘額：NT89301\n",
      "請輸入購買商品編號（按enter即購買，輸入 exit 結束此次購買）：1\n",
      "您已購買[大腸頭]，價值[NT9999]，您的餘額：NT79302\n",
      "請輸入購買商品編號（按enter即購買，輸入 exit 結束此次購買）：10\n",
      "您已購買[國王的新衣]，價值[NT99]，您的餘額：NT79203\n",
      "請輸入購買商品編號（按enter即購買，輸入 exit 結束此次購買）：54\n",
      "查無此商品，請重新確認\n",
      "請輸入購買商品編號（按enter即購買，輸入 exit 結束此次購買）：\n",
      "請輸入有效的商品數字編號喔^^\n",
      "請輸入購買商品編號（按enter即購買，輸入 exit 結束此次購買）：exit\n",
      "--------------購物車清單-------------\n",
      "No.0, 綠帽子, NT1\n",
      "No.1, 魔杖, NT449\n",
      "No.2, 一直掉的玻璃鞋, NT250\n",
      "No.3, 大腸頭, NT9999\n",
      "No.4, 大腸頭, NT9999\n",
      "No.5, 國王的新衣, NT99\n",
      "餘額: 79203\n"
     ]
    }
   ],
   "source": [
    "print(\"~歡迎蒞臨黑店網路商城~不限金額免運，請依照指示操作:\")\n",
    "\n",
    "moeny = input(\"請輸入購物金額度，再按enter： \")\n",
    "\n",
    "goods =[\n",
    "    [\"黑心肝\",10000],\n",
    "    [\"大腸頭\",9999],\n",
    "    [\"綠帽子\",1],\n",
    "    [\"魔鏡\",9950],\n",
    "    [\"一直掉的玻璃鞋\",250],\n",
    "    [\"玫瑰花\",50],\n",
    "    [\"魔藥福袋\",1100],\n",
    "    [\"即期毒藥\",38],\n",
    "    [\"好聽的聲音\",25000],\n",
    "    [\"魔杖\",449],\n",
    "    [\"國王的新衣\",99],\n",
    "]\n",
    "if moeny.isdigit(): \n",
    "    moeny = int(moeny)\n",
    "    lists = '---------------商品列表----------------\\n'\n",
    "\n",
    "    for index,item in enumerate(goods): \n",
    "        lists += \"No.%d, %s, NT%d\" %(index,item[0],item[1]) + \"\\n\"\n",
    "\n",
    "    print(lists)\n",
    "\n",
    "    cart = []\n",
    "    num = input(\"請輸入購買商品編號（按enter購買，輸入 exit 結束此次購買）：\")\n",
    "    while num != 'exit':\n",
    "        if num.isdigit():\n",
    "            if(int(num) < len(goods)):\n",
    "                item = goods[int(num)]\n",
    "                if moeny >= item[1]:\n",
    "                    cart.append(item)\n",
    "                    moeny -= item[1]\n",
    "                    print(\"您已購買[\" + item[0] + \"]，價值[NT\" + str(item[1]) + \"]，您的餘額：NT\" + str(moeny))\n",
    "                else:\n",
    "                    print(\"抱歉，您的餘額不足。請重新選擇商品\")\n",
    "            else:\n",
    "                print(\"查無此商品，請重新確認\")\n",
    "        else:\n",
    "            print(\"請輸入有效的商品數字編號喔^^\")\n",
    "        num = input(\"請輸入購買商品編號（按enter即購買，輸入 exit 結束此次購買）：\")\n",
    "\n",
    "    conclusion = \"--------------購物車清單-------------\\n\"\n",
    "    for index,item in enumerate(cart):\n",
    "        conclusion += \"No.%d, %s, NT%d\" %(index,item[0],item[1]) + \"\\n\"\n",
    "    conclusion += \"餘額: \"+str(moeny)\n",
    "    print(conclusion)\n",
    "\n",
    "else:\n",
    "    print(\"請輸入有效的數字金額喔^^\")"
   ]
  },
  {
   "cell_type": "code",
   "execution_count": null,
   "metadata": {
    "collapsed": true
   },
   "outputs": [],
   "source": []
  }
 ],
 "metadata": {
  "kernelspec": {
   "display_name": "Python 3",
   "language": "python",
   "name": "python3"
  },
  "language_info": {
   "codemirror_mode": {
    "name": "ipython",
    "version": 3
   },
   "file_extension": ".py",
   "mimetype": "text/x-python",
   "name": "python",
   "nbconvert_exporter": "python",
   "pygments_lexer": "ipython3",
   "version": "3.6.2"
  }
 },
 "nbformat": 4,
 "nbformat_minor": 2
}

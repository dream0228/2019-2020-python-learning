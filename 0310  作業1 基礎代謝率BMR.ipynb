{
 "cells": [
  {
   "cell_type": "code",
   "execution_count": null,
   "metadata": {
    "collapsed": true
   },
   "outputs": [],
   "source": [
    "%matplotlib inline\n",
    "\n",
    "import numpy as np\n",
    "import matplotlib.pyplot as plt\n",
    "import pandas as pd"
   ]
  },
  {
   "cell_type": "markdown",
   "metadata": {},
   "source": [
    "### 基礎代謝率BMR"
   ]
  },
  {
   "cell_type": "code",
   "execution_count": null,
   "metadata": {},
   "outputs": [
    {
     "name": "stdout",
     "output_type": "stream",
     "text": [
      "要開始計算您的BMR嗎(Y/N)？Y\n",
      "請依序填入下列資訊，並且用空格隔開\n",
      "性別(男/女) 體重（kg） 身高（cm） 年齡女 55 165 21\n",
      "您的性別：女，體重：55.0kg，身高：165.0cm，年齡：21歲\n",
      "您的基礎代謝率BMR:1381.3 大卡\n",
      "\n"
     ]
    }
   ],
   "source": [
    "def main():\n",
    "    \"\"\"\n",
    "        BMR計算\n",
    "    \"\"\"\n",
    "    y_or_n = input('要開始計算您的BMR嗎(Y/N)？')\n",
    "    while y_or_n != 'y':\n",
    "        print('請依序填入下列資訊，並且用空格隔開')\n",
    "        input_str = input('性別(男/女) 體重（kg） 身高（cm） 年齡')\n",
    "        str_list = input_str.split(' ')\n",
    "        gender = str_list[0]\n",
    "        weight = float(str_list[1])\n",
    "        height = float(str_list[2])\n",
    "        age = int(str_list[3])\n",
    "\n",
    "        if gender == '男':\n",
    "            bmr = (13.7 * weight) + (5.0 * height) - (6.8 * age) + 66\n",
    "        elif gender == '女':\n",
    "            bmr = (9.6 * weight) + (1.8 * height) - (4.7 * age) + 655\n",
    "        else:\n",
    "            bmr = -1\n",
    "        if bmr != -1:\n",
    "            print('您的性別：{}，體重：{}kg，身高：{}cm，年齡：{}歲'.format(gender, weight, height, age))\n",
    "            print('您的基礎代謝率BMR:{} 大卡'.format(bmr))\n",
    "        else:\n",
    "            print('只能輸入男/女喔')\n",
    "        print()\n",
    "        y_or_n = input('要結束程式或是繼續執行(Y/N)？')\n",
    "\n",
    "\n",
    "if __name__ == '__main__':\n",
    "    main()"
   ]
  },
  {
   "cell_type": "code",
   "execution_count": null,
   "metadata": {
    "collapsed": true
   },
   "outputs": [],
   "source": []
  }
 ],
 "metadata": {
  "kernelspec": {
   "display_name": "Python 3",
   "language": "python",
   "name": "python3"
  },
  "language_info": {
   "codemirror_mode": {
    "name": "ipython",
    "version": 3
   },
   "file_extension": ".py",
   "mimetype": "text/x-python",
   "name": "python",
   "nbconvert_exporter": "python",
   "pygments_lexer": "ipython3",
   "version": "3.6.2"
  }
 },
 "nbformat": 4,
 "nbformat_minor": 2
}

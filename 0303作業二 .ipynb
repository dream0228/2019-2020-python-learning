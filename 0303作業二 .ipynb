{
 "cells": [
  {
   "cell_type": "code",
   "execution_count": 1,
   "metadata": {
    "collapsed": true
   },
   "outputs": [],
   "source": [
    "%matplotlib inline\n",
    "\n",
    "import numpy as np\n",
    "import matplotlib.pyplot as plt\n",
    "import pandas as pd"
   ]
  },
  {
   "cell_type": "markdown",
   "metadata": {},
   "source": [
    "### 星座查詢"
   ]
  },
  {
   "cell_type": "code",
   "execution_count": 2,
   "metadata": {},
   "outputs": [
    {
     "name": "stdout",
     "output_type": "stream",
     "text": [
      "請輸入您的出生月份2\n",
      "請輸入您的出生日期28\n",
      "雙魚\n"
     ]
    }
   ],
   "source": [
    "月 = int(input(\"請輸入您的出生月份\"))\n",
    "日 = int(input(\"請輸入您的出生日期\"))\n",
    "\n",
    "def get_constellation(month, date):\n",
    "    dates = (21, 20, 21, 21, 22, 22, 23, 24, 24, 24, 23, 22)\n",
    "    constellations = (\"摩羯\", \"水瓶\", \"雙魚\", \"牡羊\", \"金牛\", \"雙子\", \"巨蟹\", \"獅子\", \"處女\", \"天秤\", \"天蝎\", \"射手\", \"魔羯\")\n",
    "    if date < dates[month-1]:\n",
    "        return constellations[month-1]\n",
    "    else:\n",
    "        return constellations[month]\n",
    "\n",
    "print ((get_constellation(月,日)))\n"
   ]
  },
  {
   "cell_type": "code",
   "execution_count": null,
   "metadata": {
    "collapsed": true
   },
   "outputs": [],
   "source": []
  }
 ],
 "metadata": {
  "kernelspec": {
   "display_name": "Python 3",
   "language": "python",
   "name": "python3"
  },
  "language_info": {
   "codemirror_mode": {
    "name": "ipython",
    "version": 3
   },
   "file_extension": ".py",
   "mimetype": "text/x-python",
   "name": "python",
   "nbconvert_exporter": "python",
   "pygments_lexer": "ipython3",
   "version": "3.6.2"
  }
 },
 "nbformat": 4,
 "nbformat_minor": 2
}

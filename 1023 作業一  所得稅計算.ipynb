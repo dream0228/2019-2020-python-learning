{
 "cells": [
  {
   "cell_type": "code",
   "execution_count": 1,
   "metadata": {
    "collapsed": true
   },
   "outputs": [],
   "source": [
    "%matplotlib inline\n",
    "\n",
    "import numpy as np\n",
    "import matplotlib.pyplot as plt\n",
    "import pandas as pd"
   ]
  },
  {
   "cell_type": "markdown",
   "metadata": {},
   "source": [
    "### 應納稅額 = 綜合所得淨額 X 稅率 – 累進差額"
   ]
  },
  {
   "cell_type": "code",
   "execution_count": 2,
   "metadata": {},
   "outputs": [
    {
     "name": "stdout",
     "output_type": "stream",
     "text": [
      "請輸入你的收入 567890\n",
      "綜合所得淨額 567890 元應該繳交的個人綜所稅為 30346.800000000003 元\n"
     ]
    }
   ],
   "source": [
    "salary= eval(input(\"請輸入你的收入 \"))\n",
    "\n",
    "if salary <= 540000:\n",
    "    tax = salary * 0.05\n",
    "elif salary > 540000 and salary <= 1210000:\n",
    "  tax = (salary * 0.12)-37800\n",
    "elif salary > 1210000 and salary <= 2420000:\n",
    "  tax =(salary * 0.2)-134600\n",
    "elif salary > 2420000 and salary <= 4530000:\n",
    "  tax = (salary * 0.3)-376600\n",
    "else: \n",
    "    tax = (salary * 0.4)-829600\n",
    "\n",
    "print(\"綜合所得淨額\", salary, \"元應該繳交的個人綜所稅為\", tax, \"元\") \n"
   ]
  },
  {
   "cell_type": "code",
   "execution_count": null,
   "metadata": {
    "collapsed": true
   },
   "outputs": [],
   "source": []
  }
 ],
 "metadata": {
  "kernelspec": {
   "display_name": "Python 3",
   "language": "python",
   "name": "python3"
  },
  "language_info": {
   "codemirror_mode": {
    "name": "ipython",
    "version": 3
   },
   "file_extension": ".py",
   "mimetype": "text/x-python",
   "name": "python",
   "nbconvert_exporter": "python",
   "pygments_lexer": "ipython3",
   "version": "3.6.2"
  }
 },
 "nbformat": 4,
 "nbformat_minor": 2
}

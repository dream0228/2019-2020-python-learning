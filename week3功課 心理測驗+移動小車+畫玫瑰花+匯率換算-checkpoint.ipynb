{
 "cells": [
  {
   "cell_type": "code",
   "execution_count": 2,
   "metadata": {},
   "outputs": [],
   "source": [
    "%matplotlib inline\n",
    "\n",
    "import numpy as np\n",
    "import matplotlib.pyplot as plt"
   ]
  },
  {
   "cell_type": "markdown",
   "metadata": {},
   "source": [
    "\n",
    "### 作業一  測你心機有多深\n",
    "\n",
    "![圖片名稱](圖檔名稱)\n",
    "\n",
    "![測你心機有多深](測你心機有多深.jpg)"
   ]
  },
  {
   "cell_type": "markdown",
   "metadata": {},
   "source": [
    "### 你覺得誰先開槍？"
   ]
  },
  {
   "cell_type": "code",
   "execution_count": 12,
   "metadata": {},
   "outputs": [
    {
     "name": "stdout",
     "output_type": "stream",
     "text": [
      "測你心機有多深\n"
     ]
    },
    {
     "data": {
      "application/vnd.jupyter.widget-view+json": {
       "model_id": "242a96c694144a2281d125d573fc37bd",
       "version_major": 2,
       "version_minor": 0
      },
      "text/plain": [
       "A Jupyter Widget"
      ]
     },
     "metadata": {},
     "output_type": "display_data"
    }
   ],
   "source": [
    "from ipywidgets import interact\n",
    "print(\"測你心機有多深\")\n",
    "\n",
    "def Answer(結果):\n",
    "    print(結果)\n",
    "interact (Calorie,結果=dict(選項=(\" \"),\n",
    "                           A=(\"心機指數80%你的內心非常高深莫測，永遠沒有人可以猜到你下一步怎麼走你是個非常會策劃謀略的高手。\"),\n",
    "                           B=(\"心機指數0%，憑藉自己的能力，你是個完全用不到心機的實力，派高手耍手段放冷箭，不是你喜歡的方式，直來直往的個性，加上原有的能力，總能在維持屹立不搖的地位。\"),\n",
    "                           C=(\"你的內心實在無法用數值來計算，沒有人猜透，你的心思，反复無常的性格，獨樹一格的思想，讓對任何事都有自己奇特的處理方式。\"),\n",
    "                           D=(\"心機指數20%擁有一顆善良的內心的你，誠信且正直，你的心機是用來保護自己的手段，並不是來陷害他人若非有必要，你不會輕易傷害任何人。\")));"
   ]
  },
  {
   "cell_type": "markdown",
   "metadata": {},
   "source": [
    "### 作業二   移動的車們"
   ]
  },
  {
   "cell_type": "code",
   "execution_count": 43,
   "metadata": {
    "collapsed": true
   },
   "outputs": [],
   "source": [
    "%matplotlib inline\n",
    "\n",
    "import numpy as np\n",
    "import matplotlib.pyplot as plt\n",
    "import pandas as pd"
   ]
  },
  {
   "cell_type": "code",
   "execution_count": 44,
   "metadata": {
    "collapsed": true
   },
   "outputs": [],
   "source": [
    "from ipywidgets import interact"
   ]
  },
  {
   "cell_type": "code",
   "execution_count": 45,
   "metadata": {
    "collapsed": true
   },
   "outputs": [],
   "source": [
    "def move(n=1):              \n",
    "    print(\" \"*n+\"🚒\"+\" \"*3+\"🚓     🚕\"+\"  \"*10+\" 🚌\"+\" \"*(19)+\"🚛\"+\"🚲\")"
   ]
  },
  {
   "cell_type": "code",
   "execution_count": 46,
   "metadata": {},
   "outputs": [
    {
     "data": {
      "application/vnd.jupyter.widget-view+json": {
       "model_id": "f4ee139decd2462989c941c9e998dc66",
       "version_major": 2,
       "version_minor": 0
      },
      "text/plain": [
       "A Jupyter Widget"
      ]
     },
     "metadata": {},
     "output_type": "display_data"
    },
    {
     "data": {
      "text/plain": [
       "<function __main__.move>"
      ]
     },
     "execution_count": 46,
     "metadata": {},
     "output_type": "execute_result"
    }
   ],
   "source": [
    "interact(move,n=(1,99))"
   ]
  },
  {
   "cell_type": "markdown",
   "metadata": {},
   "source": [
    "### 作業三   畫玫瑰花\n",
    "\n",
    "\n",
    "\n"
   ]
  },
  {
   "cell_type": "code",
   "execution_count": 66,
   "metadata": {},
   "outputs": [],
   "source": [
    "%matplotlib inline\n",
    "\n",
    "import numpy as np\n",
    "import matplotlib.pyplot as plt\n",
    "import pandas as pd"
   ]
  },
  {
   "cell_type": "code",
   "execution_count": 67,
   "metadata": {},
   "outputs": [],
   "source": [
    "from turtle import *\n",
    "import time\n",
    "\n",
    "setup(600,800,0,0)\n",
    "speed(0)\n",
    "penup()\n",
    "seth(90)\n",
    "fd(340)\n",
    "seth(0)\n",
    "pendown()\n",
    "\n",
    "speed(5)\n",
    "begin_fill()\n",
    "fillcolor(\"blue\")\n",
    "circle(50,30)\n",
    "\n",
    "for i in range(10):\n",
    "    fd(1)\n",
    "    left(10)\n",
    "\n",
    "circle(40,40)\n",
    "\n",
    "for i in range(6):\n",
    "    fd(1)\n",
    "    left(3)\n",
    "\n",
    "circle(80,40)\n",
    "\n",
    "for i in range(20):\n",
    "    fd(0.5)\n",
    "    left(5)\n",
    "\n",
    "circle(80,45)\n",
    "\n",
    "for i in range(10):\n",
    "    fd(2)\n",
    "    left(1)\n",
    "    \n",
    "circle(80,25)\n",
    "\n",
    "for i in range(20):\n",
    "    fd(1)\n",
    "    left(4)\n",
    "\n",
    "circle(50,50)\n",
    "\n",
    "time.sleep(0.1)\n",
    "\n",
    "circle(120,55)\n",
    "\n",
    "speed(0)\n",
    "\n",
    "seth(-90)\n",
    "fd(70)\n",
    "\n",
    "right(150)\n",
    "fd(20)\n",
    "\n",
    "left(140)\n",
    "circle(140,90)\n",
    "\n",
    "left(30)\n",
    "circle(160,100)\n",
    "\n",
    "left(130)\n",
    "fd(25)\n",
    "\n",
    "penup()\n",
    "right(150)\n",
    "circle(40,80)\n",
    "pendown()\n",
    "\n",
    "left(115)\n",
    "fd(60)\n",
    "\n",
    "penup()\n",
    "left(180)\n",
    "fd(60)\n",
    "pendown()\n",
    "\n",
    "end_fill()\n",
    "\n",
    "right(120)\n",
    "circle(-50,50)\n",
    "circle(-20,90)\n",
    "\n",
    "speed(1)\n",
    "fd(75)\n",
    "\n",
    "speed(0)\n",
    "circle(90,110)\n",
    "\n",
    "penup()\n",
    "left(162)\n",
    "fd(185)\n",
    "left(170)\n",
    "pendown()\n",
    "circle(200,10)\n",
    "circle(100,40)\n",
    "circle(-52,115)\n",
    "left(20)\n",
    "circle(100,20)\n",
    "circle(300,20)\n",
    "speed(1)\n",
    "fd(250)\n",
    "\n",
    "penup()\n",
    "speed(0)\n",
    "left(180)\n",
    "fd(250)\n",
    "circle(-300,7)\n",
    "right(80)\n",
    "circle(200,5)\n",
    "pendown()\n",
    "\n",
    "left(60)\n",
    "begin_fill()\n",
    "fillcolor(\"green\")\n",
    "circle(-80,100)\n",
    "right(90)\n",
    "fd(10)\n",
    "left(20)\n",
    "circle(-63,127)\n",
    "end_fill()\n",
    "\n",
    "penup()\n",
    "left(50)\n",
    "fd(20)\n",
    "left(180)\n",
    "\n",
    "pendown()\n",
    "circle(200,25)\n",
    "\n",
    "penup()\n",
    "right(150)\n",
    "\n",
    "fd(180)\n",
    "\n",
    "right(40)\n",
    "pendown()\n",
    "begin_fill()\n",
    "fillcolor(\"green\")\n",
    "circle(-100,80)\n",
    "right(150)\n",
    "fd(10)\n",
    "left(60)\n",
    "circle(-80,98)\n",
    "end_fill()\n",
    "\n",
    "penup()\n",
    "left(60)\n",
    "fd(13)\n",
    "left(180)\n",
    "\n",
    "pendown()\n",
    "speed(1)\n",
    "circle(-200,23)\n",
    "\n",
    "\n",
    "\n",
    "exitonclick()"
   ]
  },
  {
   "cell_type": "markdown",
   "metadata": {},
   "source": [
    "### 作業四   匯率換算\n",
    "\n"
   ]
  },
  {
   "cell_type": "code",
   "execution_count": 61,
   "metadata": {
    "collapsed": true
   },
   "outputs": [],
   "source": [
    "%matplotlib inline\n",
    "\n",
    "import numpy as np\n",
    "import matplotlib.pyplot as plt\n",
    "import pandas as pd"
   ]
  },
  {
   "cell_type": "code",
   "execution_count": 62,
   "metadata": {
    "collapsed": true
   },
   "outputs": [],
   "source": [
    "c=3.802"
   ]
  },
  {
   "cell_type": "code",
   "execution_count": 64,
   "metadata": {},
   "outputs": [
    {
     "name": "stdout",
     "output_type": "stream",
     "text": [
      "要價多少港幣:365,777,8096,228,3942\n",
      "價格 1387.73 台幣\n",
      "價格 2954.154 台幣\n",
      "價格 30780.992000000002 台幣\n",
      "價格 866.856 台幣\n",
      "價格 14987.484 台幣\n"
     ]
    }
   ],
   "source": [
    "p_list=[]\n",
    "spam=input(\"要價多少港幣:\")\n",
    "data=spam.split(\",\")\n",
    "\n",
    "for p in data:\n",
    "    p=float(p)\n",
    "    p_list.append(p*c)\n",
    "    print(\"價格\",p*c,\"台幣\")"
   ]
  },
  {
   "cell_type": "code",
   "execution_count": null,
   "metadata": {
    "collapsed": true
   },
   "outputs": [],
   "source": []
  }
 ],
 "metadata": {
  "kernelspec": {
   "display_name": "Python 3",
   "language": "python",
   "name": "python3"
  },
  "language_info": {
   "codemirror_mode": {
    "name": "ipython",
    "version": 3
   },
   "file_extension": ".py",
   "mimetype": "text/x-python",
   "name": "python",
   "nbconvert_exporter": "python",
   "pygments_lexer": "ipython3",
   "version": "3.6.2"
  }
 },
 "nbformat": 4,
 "nbformat_minor": 2
}

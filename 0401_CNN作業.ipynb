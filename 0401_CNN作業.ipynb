{
  "nbformat": 4,
  "nbformat_minor": 0,
  "metadata": {
    "colab": {
      "name": "0401 CNN作業.ipynb",
      "provenance": [],
      "collapsed_sections": []
    },
    "kernelspec": {
      "name": "python3",
      "display_name": "Python 3"
    },
    "accelerator": "TPU",
    "widgets": {
      "application/vnd.jupyter.widget-state+json": {
        "804d210a117949f7afa8d7b134d366b7": {
          "model_module": "@jupyter-widgets/controls",
          "model_name": "VBoxModel",
          "state": {
            "_view_name": "VBoxView",
            "_dom_classes": [
              "widget-interact"
            ],
            "_model_name": "VBoxModel",
            "_view_module": "@jupyter-widgets/controls",
            "_model_module_version": "1.5.0",
            "_view_count": null,
            "_view_module_version": "1.5.0",
            "box_style": "",
            "layout": "IPY_MODEL_1274a4d34d9c4d1380830802b9544153",
            "_model_module": "@jupyter-widgets/controls",
            "children": [
              "IPY_MODEL_8c5ab18386994c849b8f03506ea6b064",
              "IPY_MODEL_7af5125849d54ac5810a60230012dcde",
              "IPY_MODEL_e779c609db5245a6b38659f008fca452"
            ]
          }
        },
        "1274a4d34d9c4d1380830802b9544153": {
          "model_module": "@jupyter-widgets/base",
          "model_name": "LayoutModel",
          "state": {
            "_view_name": "LayoutView",
            "grid_template_rows": null,
            "right": null,
            "justify_content": null,
            "_view_module": "@jupyter-widgets/base",
            "overflow": null,
            "_model_module_version": "1.2.0",
            "_view_count": null,
            "flex_flow": null,
            "width": null,
            "min_width": null,
            "border": null,
            "align_items": null,
            "bottom": null,
            "_model_module": "@jupyter-widgets/base",
            "top": null,
            "grid_column": null,
            "overflow_y": null,
            "overflow_x": null,
            "grid_auto_flow": null,
            "grid_area": null,
            "grid_template_columns": null,
            "flex": null,
            "_model_name": "LayoutModel",
            "justify_items": null,
            "grid_row": null,
            "max_height": null,
            "align_content": null,
            "visibility": null,
            "align_self": null,
            "height": null,
            "min_height": null,
            "padding": null,
            "grid_auto_rows": null,
            "grid_gap": null,
            "max_width": null,
            "order": null,
            "_view_module_version": "1.2.0",
            "grid_template_areas": null,
            "object_position": null,
            "object_fit": null,
            "grid_auto_columns": null,
            "margin": null,
            "display": null,
            "left": null
          }
        },
        "8c5ab18386994c849b8f03506ea6b064": {
          "model_module": "@jupyter-widgets/controls",
          "model_name": "IntSliderModel",
          "state": {
            "_view_name": "IntSliderView",
            "style": "IPY_MODEL_721d810f87cb42f8aad320ac18ff0e3c",
            "_dom_classes": [],
            "description": "n",
            "step": 1,
            "_model_name": "IntSliderModel",
            "orientation": "horizontal",
            "max": 9999,
            "_view_module": "@jupyter-widgets/controls",
            "_model_module_version": "1.5.0",
            "value": 7127,
            "_view_count": null,
            "disabled": false,
            "_view_module_version": "1.5.0",
            "min": 0,
            "continuous_update": true,
            "readout_format": "d",
            "description_tooltip": null,
            "readout": true,
            "_model_module": "@jupyter-widgets/controls",
            "layout": "IPY_MODEL_1ec18d169c0c4a488d0bb5fcc147c9c9"
          }
        },
        "7af5125849d54ac5810a60230012dcde": {
          "model_module": "@jupyter-widgets/controls",
          "model_name": "ButtonModel",
          "state": {
            "_view_name": "ButtonView",
            "style": "IPY_MODEL_cc64222310944801a88b1dff622d4d2c",
            "_dom_classes": [],
            "description": "Run Interact",
            "_model_name": "ButtonModel",
            "button_style": "",
            "_view_module": "@jupyter-widgets/controls",
            "_model_module_version": "1.5.0",
            "tooltip": "",
            "_view_count": null,
            "disabled": false,
            "_view_module_version": "1.5.0",
            "layout": "IPY_MODEL_6e3511abd03e4c5884c6ff9bfc745e26",
            "_model_module": "@jupyter-widgets/controls",
            "icon": ""
          }
        },
        "e779c609db5245a6b38659f008fca452": {
          "model_module": "@jupyter-widgets/output",
          "model_name": "OutputModel",
          "state": {
            "_view_name": "OutputView",
            "msg_id": "",
            "_dom_classes": [],
            "_model_name": "OutputModel",
            "outputs": [
              {
                "output_type": "stream",
                "metadata": {
                  "tags": []
                },
                "text": "我可愛的CNN預測是 T-shirt/top\n",
                "stream": "stdout"
              },
              {
                "output_type": "display_data",
                "metadata": {
                  "tags": [],
                  "needs_background": "light"
                },
                "image/png": "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\n",
                "text/plain": "<Figure size 432x288 with 1 Axes>"
              }
            ],
            "_view_module": "@jupyter-widgets/output",
            "_model_module_version": "1.0.0",
            "_view_count": null,
            "_view_module_version": "1.0.0",
            "layout": "IPY_MODEL_f26fef68cfdb47c692b8092bcc75f486",
            "_model_module": "@jupyter-widgets/output"
          }
        },
        "721d810f87cb42f8aad320ac18ff0e3c": {
          "model_module": "@jupyter-widgets/controls",
          "model_name": "SliderStyleModel",
          "state": {
            "_view_name": "StyleView",
            "handle_color": null,
            "_model_name": "SliderStyleModel",
            "description_width": "",
            "_view_module": "@jupyter-widgets/base",
            "_model_module_version": "1.5.0",
            "_view_count": null,
            "_view_module_version": "1.2.0",
            "_model_module": "@jupyter-widgets/controls"
          }
        },
        "1ec18d169c0c4a488d0bb5fcc147c9c9": {
          "model_module": "@jupyter-widgets/base",
          "model_name": "LayoutModel",
          "state": {
            "_view_name": "LayoutView",
            "grid_template_rows": null,
            "right": null,
            "justify_content": null,
            "_view_module": "@jupyter-widgets/base",
            "overflow": null,
            "_model_module_version": "1.2.0",
            "_view_count": null,
            "flex_flow": null,
            "width": null,
            "min_width": null,
            "border": null,
            "align_items": null,
            "bottom": null,
            "_model_module": "@jupyter-widgets/base",
            "top": null,
            "grid_column": null,
            "overflow_y": null,
            "overflow_x": null,
            "grid_auto_flow": null,
            "grid_area": null,
            "grid_template_columns": null,
            "flex": null,
            "_model_name": "LayoutModel",
            "justify_items": null,
            "grid_row": null,
            "max_height": null,
            "align_content": null,
            "visibility": null,
            "align_self": null,
            "height": null,
            "min_height": null,
            "padding": null,
            "grid_auto_rows": null,
            "grid_gap": null,
            "max_width": null,
            "order": null,
            "_view_module_version": "1.2.0",
            "grid_template_areas": null,
            "object_position": null,
            "object_fit": null,
            "grid_auto_columns": null,
            "margin": null,
            "display": null,
            "left": null
          }
        },
        "cc64222310944801a88b1dff622d4d2c": {
          "model_module": "@jupyter-widgets/controls",
          "model_name": "ButtonStyleModel",
          "state": {
            "_view_name": "StyleView",
            "_model_name": "ButtonStyleModel",
            "_view_module": "@jupyter-widgets/base",
            "_model_module_version": "1.5.0",
            "_view_count": null,
            "button_color": null,
            "font_weight": "",
            "_view_module_version": "1.2.0",
            "_model_module": "@jupyter-widgets/controls"
          }
        },
        "6e3511abd03e4c5884c6ff9bfc745e26": {
          "model_module": "@jupyter-widgets/base",
          "model_name": "LayoutModel",
          "state": {
            "_view_name": "LayoutView",
            "grid_template_rows": null,
            "right": null,
            "justify_content": null,
            "_view_module": "@jupyter-widgets/base",
            "overflow": null,
            "_model_module_version": "1.2.0",
            "_view_count": null,
            "flex_flow": null,
            "width": null,
            "min_width": null,
            "border": null,
            "align_items": null,
            "bottom": null,
            "_model_module": "@jupyter-widgets/base",
            "top": null,
            "grid_column": null,
            "overflow_y": null,
            "overflow_x": null,
            "grid_auto_flow": null,
            "grid_area": null,
            "grid_template_columns": null,
            "flex": null,
            "_model_name": "LayoutModel",
            "justify_items": null,
            "grid_row": null,
            "max_height": null,
            "align_content": null,
            "visibility": null,
            "align_self": null,
            "height": null,
            "min_height": null,
            "padding": null,
            "grid_auto_rows": null,
            "grid_gap": null,
            "max_width": null,
            "order": null,
            "_view_module_version": "1.2.0",
            "grid_template_areas": null,
            "object_position": null,
            "object_fit": null,
            "grid_auto_columns": null,
            "margin": null,
            "display": null,
            "left": null
          }
        },
        "f26fef68cfdb47c692b8092bcc75f486": {
          "model_module": "@jupyter-widgets/base",
          "model_name": "LayoutModel",
          "state": {
            "_view_name": "LayoutView",
            "grid_template_rows": null,
            "right": null,
            "justify_content": null,
            "_view_module": "@jupyter-widgets/base",
            "overflow": null,
            "_model_module_version": "1.2.0",
            "_view_count": null,
            "flex_flow": null,
            "width": null,
            "min_width": null,
            "border": null,
            "align_items": null,
            "bottom": null,
            "_model_module": "@jupyter-widgets/base",
            "top": null,
            "grid_column": null,
            "overflow_y": null,
            "overflow_x": null,
            "grid_auto_flow": null,
            "grid_area": null,
            "grid_template_columns": null,
            "flex": null,
            "_model_name": "LayoutModel",
            "justify_items": null,
            "grid_row": null,
            "max_height": null,
            "align_content": null,
            "visibility": null,
            "align_self": null,
            "height": null,
            "min_height": null,
            "padding": null,
            "grid_auto_rows": null,
            "grid_gap": null,
            "max_width": null,
            "order": null,
            "_view_module_version": "1.2.0",
            "grid_template_areas": null,
            "object_position": null,
            "object_fit": null,
            "grid_auto_columns": null,
            "margin": null,
            "display": null,
            "left": null
          }
        }
      }
    }
  },
  "cells": [
    {
      "cell_type": "markdown",
      "metadata": {
        "id": "ID7vjO8_ocPW",
        "colab_type": "text"
      },
      "source": [
        "### Step1.前置作業\n",
        "#### 讀入標準套件\n"
      ]
    },
    {
      "cell_type": "code",
      "metadata": {
        "id": "UwNqoxM1odqX",
        "colab_type": "code",
        "colab": {}
      },
      "source": [
        "%matplotlib inline                \n",
        "\n",
        "import numpy as np\n",
        "import matplotlib.pyplot as plt\n",
        "import pandas as pd\n"
      ],
      "execution_count": 0,
      "outputs": []
    },
    {
      "cell_type": "code",
      "metadata": {
        "id": "-xyQ-JMaofq0",
        "colab_type": "code",
        "colab": {}
      },
      "source": [
        "# 讀入Tensorflow\n",
        "import tensorflow as tf \n"
      ],
      "execution_count": 0,
      "outputs": []
    },
    {
      "cell_type": "markdown",
      "metadata": {
        "id": "f15bEo1mooSM",
        "colab_type": "text"
      },
      "source": [
        "### Step2. 讀入 MNSIT 數據集"
      ]
    },
    {
      "cell_type": "code",
      "metadata": {
        "id": "PIM3LciPohTp",
        "colab_type": "code",
        "colab": {}
      },
      "source": [
        "from tensorflow.keras.datasets import fashion_mnist  #讀入Fashion 版的 MNIST"
      ],
      "execution_count": 0,
      "outputs": []
    },
    {
      "cell_type": "code",
      "metadata": {
        "id": "rEIJo4vpot4c",
        "colab_type": "code",
        "colab": {
          "base_uri": "https://localhost:8080/",
          "height": 171
        },
        "outputId": "2ab0bcf6-05a3-4d79-e205-418d612a00f5"
      },
      "source": [
        "(x_train,y_train),(x_test,y_test)=fashion_mnist.load_data()"
      ],
      "execution_count": 4,
      "outputs": [
        {
          "output_type": "stream",
          "text": [
            "Downloading data from https://storage.googleapis.com/tensorflow/tf-keras-datasets/train-labels-idx1-ubyte.gz\n",
            "32768/29515 [=================================] - 0s 0us/step\n",
            "Downloading data from https://storage.googleapis.com/tensorflow/tf-keras-datasets/train-images-idx3-ubyte.gz\n",
            "26427392/26421880 [==============================] - 0s 0us/step\n",
            "Downloading data from https://storage.googleapis.com/tensorflow/tf-keras-datasets/t10k-labels-idx1-ubyte.gz\n",
            "8192/5148 [===============================================] - 0s 0us/step\n",
            "Downloading data from https://storage.googleapis.com/tensorflow/tf-keras-datasets/t10k-images-idx3-ubyte.gz\n",
            "4423680/4422102 [==============================] - 0s 0us/step\n"
          ],
          "name": "stdout"
        }
      ]
    },
    {
      "cell_type": "code",
      "metadata": {
        "id": "hKhrQSJLovXK",
        "colab_type": "code",
        "colab": {}
      },
      "source": [
        "class_names = ['T-shirt/top', 'Trouser', 'Pullover', 'Dress', 'Coat',\n",
        "               'Sandal', 'Shirt', 'Sneaker', 'Bag', 'Ankle boot']\n",
        "#加入class_names"
      ],
      "execution_count": 0,
      "outputs": []
    },
    {
      "cell_type": "markdown",
      "metadata": {
        "id": "a482Cq4qozNU",
        "colab_type": "text"
      },
      "source": [
        "### Step3.欣賞數據集內容"
      ]
    },
    {
      "cell_type": "code",
      "metadata": {
        "id": "M1nlGhNuow8g",
        "colab_type": "code",
        "colab": {
          "base_uri": "https://localhost:8080/",
          "height": 34
        },
        "outputId": "22e59257-57d2-4d08-9f11-21543e2a747a"
      },
      "source": [
        "len(x_train)"
      ],
      "execution_count": 6,
      "outputs": [
        {
          "output_type": "execute_result",
          "data": {
            "text/plain": [
              "60000"
            ]
          },
          "metadata": {
            "tags": []
          },
          "execution_count": 6
        }
      ]
    },
    {
      "cell_type": "code",
      "metadata": {
        "id": "8U4srUQwo06h",
        "colab_type": "code",
        "colab": {
          "base_uri": "https://localhost:8080/",
          "height": 34
        },
        "outputId": "3b17301f-30a7-463c-8235-a9fc838a0173"
      },
      "source": [
        "len(x_test)"
      ],
      "execution_count": 7,
      "outputs": [
        {
          "output_type": "execute_result",
          "data": {
            "text/plain": [
              "10000"
            ]
          },
          "metadata": {
            "tags": []
          },
          "execution_count": 7
        }
      ]
    },
    {
      "cell_type": "code",
      "metadata": {
        "id": "DVZonMFgo4_G",
        "colab_type": "code",
        "colab": {}
      },
      "source": [
        "x_train=x_train.reshape(60000,28,28,1)/255\n",
        "#一個channel,所以(28,28)-->(28,28,1)\n",
        "x_test=x_test.reshape(10000,28,28,1)/255"
      ],
      "execution_count": 0,
      "outputs": []
    },
    {
      "cell_type": "code",
      "metadata": {
        "id": "wStfWnZVo7AZ",
        "colab_type": "code",
        "colab": {}
      },
      "source": [
        "from tensorflow.keras.utils import to_categorical\n",
        "#準備 One hot encoding"
      ],
      "execution_count": 0,
      "outputs": []
    },
    {
      "cell_type": "code",
      "metadata": {
        "id": "6pgcwn9po8sB",
        "colab_type": "code",
        "colab": {}
      },
      "source": [
        "y_train=to_categorical(y_train,10)\n",
        "y_test=to_categorical(y_test,10)"
      ],
      "execution_count": 0,
      "outputs": []
    },
    {
      "cell_type": "markdown",
      "metadata": {
        "id": "pXZf4zyCo-s4",
        "colab_type": "text"
      },
      "source": [
        "### 設計CNN\n",
        "#### 1.filter大小通常為基數的矩陣，於是我們在這裡設計為5x5\n",
        "#### 2.filter的個數會隨層數會越來越多，因為要篩的東西越來越多\n",
        "#### 3.最後的輸出會是多記分板的樣子，我們要做flaten(拉平)的樣子\n",
        "\n",
        "\n",
        "\n",
        "### 讀入必要的函式↓"
      ]
    },
    {
      "cell_type": "code",
      "metadata": {
        "id": "DneKquOBo-Ic",
        "colab_type": "code",
        "colab": {}
      },
      "source": [
        "from tensorflow.keras.models import Sequential   #開空白的函數學習機\n",
        "from tensorflow.keras.layers import Conv2D,MaxPooling2D\n",
        "from tensorflow.keras.layers import Dense,Flatten  #把記分板拉平\n",
        "from tensorflow.keras.optimizers import SGD"
      ],
      "execution_count": 0,
      "outputs": []
    },
    {
      "cell_type": "markdown",
      "metadata": {
        "id": "f-2eRf8YpOld",
        "colab_type": "text"
      },
      "source": [
        "### Step1.打造函數學習機(CNN)"
      ]
    },
    {
      "cell_type": "code",
      "metadata": {
        "id": "meTKMyoGpH1m",
        "colab_type": "code",
        "colab": {}
      },
      "source": [
        "model=Sequential()"
      ],
      "execution_count": 0,
      "outputs": []
    },
    {
      "cell_type": "code",
      "metadata": {
        "id": "QmJfiiN-pRZD",
        "colab_type": "code",
        "colab": {}
      },
      "source": [
        "model.add(Conv2D(16,(5,5),padding=\"same\",\n",
        "                input_shape=(28,28,1),\n",
        "                activation='relu'))  \n",
        "\n",
        "#個數16,大小5x5,填充(padding)方式選擇使用\"same\n",
        "#輸出16個28X28矩陣\n",
        "#事實上是(28,28,16)\n",
        "#使用\"relu\"作為激活函數"
      ],
      "execution_count": 0,
      "outputs": []
    },
    {
      "cell_type": "code",
      "metadata": {
        "id": "5t2j1zgapSUM",
        "colab_type": "code",
        "colab": {}
      },
      "source": [
        "model.add(MaxPooling2D(pool_size=(2,2)))\n",
        "\n",
        "\n",
        "#應該要變成(14,14,16)"
      ],
      "execution_count": 0,
      "outputs": []
    },
    {
      "cell_type": "code",
      "metadata": {
        "id": "ubl4Q5WwpTz5",
        "colab_type": "code",
        "colab": {}
      },
      "source": [
        "model.add(Conv2D(32,(5,5),padding=\"same\",\n",
        "                 activation=\"relu\"))"
      ],
      "execution_count": 0,
      "outputs": []
    },
    {
      "cell_type": "code",
      "metadata": {
        "id": "swtXhqMopVQB",
        "colab_type": "code",
        "colab": {}
      },
      "source": [
        "model.add(MaxPooling2D(pool_size=(2,2)))"
      ],
      "execution_count": 0,
      "outputs": []
    },
    {
      "cell_type": "code",
      "metadata": {
        "id": "nDhFR7XVpWQp",
        "colab_type": "code",
        "colab": {}
      },
      "source": [
        "model.add(Conv2D(64,(5,5),padding=\"same\",\n",
        "                 activation='relu'))"
      ],
      "execution_count": 0,
      "outputs": []
    },
    {
      "cell_type": "code",
      "metadata": {
        "id": "VrTnk-nzpXdd",
        "colab_type": "code",
        "colab": {}
      },
      "source": [
        "model.add(MaxPooling2D(pool_size=(2,2)))"
      ],
      "execution_count": 0,
      "outputs": []
    },
    {
      "cell_type": "code",
      "metadata": {
        "id": "2AFMMlfCpYe5",
        "colab_type": "code",
        "colab": {}
      },
      "source": [
        "model.add(Flatten())"
      ],
      "execution_count": 0,
      "outputs": []
    },
    {
      "cell_type": "code",
      "metadata": {
        "id": "l6RysjlSpZbI",
        "colab_type": "code",
        "colab": {}
      },
      "source": [
        "model.add(Dense(99,activation='relu'))\n",
        "#將神經元總數改為99個"
      ],
      "execution_count": 0,
      "outputs": []
    },
    {
      "cell_type": "code",
      "metadata": {
        "id": "pNJWihrIpbNy",
        "colab_type": "code",
        "colab": {}
      },
      "source": [
        "model.add(Dense(10,activation='softmax')) \n",
        "#softmax讓他加起來等於1"
      ],
      "execution_count": 0,
      "outputs": []
    },
    {
      "cell_type": "markdown",
      "metadata": {
        "id": "IWwJvkkvpdiu",
        "colab_type": "text"
      },
      "source": [
        "### 看一下我們的神經網路"
      ]
    },
    {
      "cell_type": "code",
      "metadata": {
        "id": "tIVVhA4-peEX",
        "colab_type": "code",
        "colab": {
          "base_uri": "https://localhost:8080/",
          "height": 454
        },
        "outputId": "43b44fee-576c-4c72-9392-48eee7a7bb25"
      },
      "source": [
        "model.summary()"
      ],
      "execution_count": 22,
      "outputs": [
        {
          "output_type": "stream",
          "text": [
            "Model: \"sequential\"\n",
            "_________________________________________________________________\n",
            "Layer (type)                 Output Shape              Param #   \n",
            "=================================================================\n",
            "conv2d (Conv2D)              (None, 28, 28, 16)        416       \n",
            "_________________________________________________________________\n",
            "max_pooling2d (MaxPooling2D) (None, 14, 14, 16)        0         \n",
            "_________________________________________________________________\n",
            "conv2d_1 (Conv2D)            (None, 14, 14, 32)        12832     \n",
            "_________________________________________________________________\n",
            "max_pooling2d_1 (MaxPooling2 (None, 7, 7, 32)          0         \n",
            "_________________________________________________________________\n",
            "conv2d_2 (Conv2D)            (None, 7, 7, 64)          51264     \n",
            "_________________________________________________________________\n",
            "max_pooling2d_2 (MaxPooling2 (None, 3, 3, 64)          0         \n",
            "_________________________________________________________________\n",
            "flatten (Flatten)            (None, 576)               0         \n",
            "_________________________________________________________________\n",
            "dense (Dense)                (None, 99)                57123     \n",
            "_________________________________________________________________\n",
            "dense_1 (Dense)              (None, 10)                1000      \n",
            "=================================================================\n",
            "Total params: 122,635\n",
            "Trainable params: 122,635\n",
            "Non-trainable params: 0\n",
            "_________________________________________________________________\n"
          ],
          "name": "stdout"
        }
      ]
    },
    {
      "cell_type": "code",
      "metadata": {
        "id": "2lwj-RYNphBG",
        "colab_type": "code",
        "colab": {}
      },
      "source": [
        "model.compile(loss='mse',optimizer=SGD(lr=0.09),\n",
        "              metrics=['accuracy'])\n",
        "\n",
        "#learning rate=0.09\n",
        "#設置metrics告訴我們正確率"
      ],
      "execution_count": 0,
      "outputs": []
    },
    {
      "cell_type": "markdown",
      "metadata": {
        "id": "vOAiRytJpkaf",
        "colab_type": "text"
      },
      "source": [
        "### Step2.fit"
      ]
    },
    {
      "cell_type": "code",
      "metadata": {
        "id": "RIW5CBr_pjOi",
        "colab_type": "code",
        "colab": {
          "base_uri": "https://localhost:8080/",
          "height": 390
        },
        "outputId": "a2de9b71-3f5d-48fc-849f-0233ce6b4c7e"
      },
      "source": [
        "model.fit(x_train,y_train,batch_size=64,epochs=10)\n",
        "#每次訓練資料為64筆,總共訓練10次\n",
        "#正確率為0.8614\n",
        "#其實前面有先跑過大概兩三次，但是正確率低的很可憐(但code不小心被我手殘刪了QAQ)"
      ],
      "execution_count": 24,
      "outputs": [
        {
          "output_type": "stream",
          "text": [
            "Epoch 1/10\n",
            "938/938 [==============================] - 85s 91ms/step - loss: 0.0756 - accuracy: 0.3750\n",
            "Epoch 2/10\n",
            "938/938 [==============================] - 85s 90ms/step - loss: 0.0379 - accuracy: 0.7279\n",
            "Epoch 3/10\n",
            "938/938 [==============================] - 85s 90ms/step - loss: 0.0316 - accuracy: 0.7780\n",
            "Epoch 4/10\n",
            "938/938 [==============================] - 85s 90ms/step - loss: 0.0285 - accuracy: 0.8015\n",
            "Epoch 5/10\n",
            "938/938 [==============================] - 87s 93ms/step - loss: 0.0264 - accuracy: 0.8171\n",
            "Epoch 6/10\n",
            "938/938 [==============================] - 86s 91ms/step - loss: 0.0246 - accuracy: 0.8300\n",
            "Epoch 7/10\n",
            "938/938 [==============================] - 86s 91ms/step - loss: 0.0232 - accuracy: 0.8399\n",
            "Epoch 8/10\n",
            "938/938 [==============================] - 86s 92ms/step - loss: 0.0222 - accuracy: 0.8468\n",
            "Epoch 9/10\n",
            "938/938 [==============================] - 86s 91ms/step - loss: 0.0212 - accuracy: 0.8537\n",
            "Epoch 10/10\n",
            "938/938 [==============================] - 85s 91ms/step - loss: 0.0204 - accuracy: 0.8614\n"
          ],
          "name": "stdout"
        },
        {
          "output_type": "execute_result",
          "data": {
            "text/plain": [
              "<tensorflow.python.keras.callbacks.History at 0x7f9c085b6390>"
            ]
          },
          "metadata": {
            "tags": []
          },
          "execution_count": 24
        }
      ]
    },
    {
      "cell_type": "code",
      "metadata": {
        "id": "o0rEUwLBpnC2",
        "colab_type": "code",
        "colab": {
          "base_uri": "https://localhost:8080/",
          "height": 390
        },
        "outputId": "b9b75341-9abf-42ae-dd1a-509fae774e5f"
      },
      "source": [
        "model.fit(x_train,y_train,batch_size=64,epochs=10)\n",
        "#想提升正確率，再跑一次"
      ],
      "execution_count": 25,
      "outputs": [
        {
          "output_type": "stream",
          "text": [
            "Epoch 1/10\n",
            "938/938 [==============================] - 84s 90ms/step - loss: 0.0197 - accuracy: 0.8655\n",
            "Epoch 2/10\n",
            "938/938 [==============================] - 84s 90ms/step - loss: 0.0191 - accuracy: 0.8697\n",
            "Epoch 3/10\n",
            "938/938 [==============================] - 85s 90ms/step - loss: 0.0186 - accuracy: 0.8729\n",
            "Epoch 4/10\n",
            "938/938 [==============================] - 84s 90ms/step - loss: 0.0181 - accuracy: 0.8771\n",
            "Epoch 5/10\n",
            "938/938 [==============================] - 84s 90ms/step - loss: 0.0178 - accuracy: 0.8798\n",
            "Epoch 6/10\n",
            "938/938 [==============================] - 84s 90ms/step - loss: 0.0173 - accuracy: 0.8831\n",
            "Epoch 7/10\n",
            "938/938 [==============================] - 84s 90ms/step - loss: 0.0170 - accuracy: 0.8853\n",
            "Epoch 8/10\n",
            "938/938 [==============================] - 84s 90ms/step - loss: 0.0167 - accuracy: 0.8877\n",
            "Epoch 9/10\n",
            "938/938 [==============================] - 84s 90ms/step - loss: 0.0164 - accuracy: 0.8892\n",
            "Epoch 10/10\n",
            "938/938 [==============================] - 84s 90ms/step - loss: 0.0162 - accuracy: 0.8900\n"
          ],
          "name": "stdout"
        },
        {
          "output_type": "execute_result",
          "data": {
            "text/plain": [
              "<tensorflow.python.keras.callbacks.History at 0x7f9c084abba8>"
            ]
          },
          "metadata": {
            "tags": []
          },
          "execution_count": 25
        }
      ]
    },
    {
      "cell_type": "code",
      "metadata": {
        "id": "Wl1KKnYDtghH",
        "colab_type": "code",
        "colab": {
          "base_uri": "https://localhost:8080/",
          "height": 390
        },
        "outputId": "d8dfa899-e2c1-4840-cd2d-b8ac14cfba96"
      },
      "source": [
        "model.fit(x_train,y_train,batch_size=64,epochs=10)\n",
        "#想提升正確率，再跑一次\n",
        "#很棒，終於有0.9以上了。\n",
        "#衝正確率在0.9106"
      ],
      "execution_count": 27,
      "outputs": [
        {
          "output_type": "stream",
          "text": [
            "Epoch 1/10\n",
            "938/938 [==============================] - 84s 90ms/step - loss: 0.0139 - accuracy: 0.9071\n",
            "Epoch 2/10\n",
            "938/938 [==============================] - 84s 90ms/step - loss: 0.0137 - accuracy: 0.9090\n",
            "Epoch 3/10\n",
            "938/938 [==============================] - 85s 91ms/step - loss: 0.0136 - accuracy: 0.9099\n",
            "Epoch 4/10\n",
            "938/938 [==============================] - 85s 90ms/step - loss: 0.0134 - accuracy: 0.9111\n",
            "Epoch 5/10\n",
            "938/938 [==============================] - 85s 91ms/step - loss: 0.0132 - accuracy: 0.9137\n",
            "Epoch 6/10\n",
            "938/938 [==============================] - 85s 90ms/step - loss: 0.0131 - accuracy: 0.9137\n",
            "Epoch 7/10\n",
            "938/938 [==============================] - 85s 90ms/step - loss: 0.0130 - accuracy: 0.9140\n",
            "Epoch 8/10\n",
            "938/938 [==============================] - 86s 92ms/step - loss: 0.0128 - accuracy: 0.9149\n",
            "Epoch 9/10\n",
            "938/938 [==============================] - 85s 90ms/step - loss: 0.0127 - accuracy: 0.9178\n",
            "Epoch 10/10\n",
            "938/938 [==============================] - 85s 90ms/step - loss: 0.0126 - accuracy: 0.9170\n"
          ],
          "name": "stdout"
        },
        {
          "output_type": "execute_result",
          "data": {
            "text/plain": [
              "<tensorflow.python.keras.callbacks.History at 0x7f9c056ec1d0>"
            ]
          },
          "metadata": {
            "tags": []
          },
          "execution_count": 27
        }
      ]
    },
    {
      "cell_type": "markdown",
      "metadata": {
        "id": "PYvobR5P8Rt5",
        "colab_type": "text"
      },
      "source": [
        "### Step3.預測"
      ]
    },
    {
      "cell_type": "code",
      "metadata": {
        "id": "whq5PBr98DPb",
        "colab_type": "code",
        "colab": {
          "base_uri": "https://localhost:8080/",
          "height": 87
        },
        "outputId": "999c237e-dfc1-4090-9ff0-8b007e029a13"
      },
      "source": [
        "result=model.predict_classes(x_test)"
      ],
      "execution_count": 28,
      "outputs": [
        {
          "output_type": "stream",
          "text": [
            "WARNING:tensorflow:From <ipython-input-28-fb35951f79d2>:1: Sequential.predict_classes (from tensorflow.python.keras.engine.sequential) is deprecated and will be removed after 2021-01-01.\n",
            "Instructions for updating:\n",
            "Please use instead:* `np.argmax(model.predict(x), axis=-1)`,   if your model does multi-class classification   (e.g. if it uses a `softmax` last-layer activation).* `(model.predict(x) > 0.5).astype(\"int32\")`,   if your model does binary classification   (e.g. if it uses a `sigmoid` last-layer activation).\n"
          ],
          "name": "stdout"
        }
      ]
    },
    {
      "cell_type": "code",
      "metadata": {
        "id": "6cnAQmydzKn2",
        "colab_type": "code",
        "colab": {}
      },
      "source": [
        "def my_predict(n):\n",
        "  print('我可愛的CNN預測是',class_names[result[n]])\n",
        "  X=x_test[n].reshape(28,28)\n",
        "  plt.imshow(X,cmap='RdPu')\n",
        "\n",
        "#自定義一個函數來看結果\n",
        "#選擇用紫色(RdPu)呈現"
      ],
      "execution_count": 0,
      "outputs": []
    },
    {
      "cell_type": "code",
      "metadata": {
        "id": "1ygMlMh28-6R",
        "colab_type": "code",
        "colab": {
          "base_uri": "https://localhost:8080/",
          "height": 282
        },
        "outputId": "f2ccb290-7c7d-481e-8a44-a5e133fca4ce"
      },
      "source": [
        "my_predict(99)"
      ],
      "execution_count": 34,
      "outputs": [
        {
          "output_type": "stream",
          "text": [
            "我可愛的CNN預測是 Pullover\n"
          ],
          "name": "stdout"
        },
        {
          "output_type": "display_data",
          "data": {
            "image/png": "[encoded data removed]",
            "text/plain": [
              "<Figure size 432x288 with 1 Axes>"
            ]
          },
          "metadata": {
            "tags": [],
            "needs_background": "light"
          }
        }
      ]
    },
    {
      "cell_type": "code",
      "metadata": {
        "id": "0TDuOzYeIk8T",
        "colab_type": "code",
        "colab": {}
      },
      "source": [
        "from ipywidgets import interact_manual"
      ],
      "execution_count": 0,
      "outputs": []
    },
    {
      "cell_type": "code",
      "metadata": {
        "id": "jfgcyqFBJ34B",
        "colab_type": "code",
        "colab": {
          "base_uri": "https://localhost:8080/",
          "height": 362,
          "referenced_widgets": [
            "804d210a117949f7afa8d7b134d366b7",
            "1274a4d34d9c4d1380830802b9544153",
            "8c5ab18386994c849b8f03506ea6b064",
            "7af5125849d54ac5810a60230012dcde",
            "e779c609db5245a6b38659f008fca452",
            "721d810f87cb42f8aad320ac18ff0e3c",
            "1ec18d169c0c4a488d0bb5fcc147c9c9",
            "cc64222310944801a88b1dff622d4d2c",
            "6e3511abd03e4c5884c6ff9bfc745e26",
            "f26fef68cfdb47c692b8092bcc75f486"
          ]
        },
        "outputId": "f187ccdf-de9d-4599-c66c-ff0397fe6298"
      },
      "source": [
        "interact_manual(my_predict, n=(0, 9999))"
      ],
      "execution_count": 37,
      "outputs": [
        {
          "output_type": "display_data",
          "data": {
            "application/vnd.jupyter.widget-view+json": {
              "model_id": "804d210a117949f7afa8d7b134d366b7",
              "version_minor": 0,
              "version_major": 2
            },
            "text/plain": [
              "interactive(children=(IntSlider(value=4999, description='n', max=9999), Button(description='Run Interact', sty…"
            ]
          },
          "metadata": {
            "tags": []
          }
        },
        {
          "output_type": "execute_result",
          "data": {
            "text/plain": [
              "<function __main__.my_predict>"
            ]
          },
          "metadata": {
            "tags": []
          },
          "execution_count": 37
        }
      ]
    },
    {
      "cell_type": "markdown",
      "metadata": {
        "id": "CejEqd3RKNLt",
        "colab_type": "text"
      },
      "source": [
        "### Step 4.模型評估"
      ]
    },
    {
      "cell_type": "code",
      "metadata": {
        "id": "6oRT5CeaJ5vK",
        "colab_type": "code",
        "colab": {
          "base_uri": "https://localhost:8080/",
          "height": 54
        },
        "outputId": "d10cbd1e-f40c-4cd0-9962-7e79d35c75bb"
      },
      "source": [
        "score = model.evaluate(x_test, y_test)"
      ],
      "execution_count": 38,
      "outputs": [
        {
          "output_type": "stream",
          "text": [
            "313/313 [==============================] - 5s 15ms/step - loss: 0.0158 - accuracy: 0.8929\n"
          ],
          "name": "stdout"
        }
      ]
    },
    {
      "cell_type": "code",
      "metadata": {
        "id": "giqbD14sKBoP",
        "colab_type": "code",
        "colab": {}
      },
      "source": [
        "los,acc=score"
      ],
      "execution_count": 0,
      "outputs": []
    },
    {
      "cell_type": "code",
      "metadata": {
        "id": "ssZOasj9KFbF",
        "colab_type": "code",
        "colab": {
          "base_uri": "https://localhost:8080/",
          "height": 34
        },
        "outputId": "b017c0e5-276b-4eed-c170-f99fe7a736cb"
      },
      "source": [
        "print('測試資料正確率為',acc)"
      ],
      "execution_count": 40,
      "outputs": [
        {
          "output_type": "stream",
          "text": [
            "測試資料正確率為 0.8928999900817871\n"
          ],
          "name": "stdout"
        }
      ]
    },
    {
      "cell_type": "code",
      "metadata": {
        "id": "D7j7JPU2KHWS",
        "colab_type": "code",
        "colab": {}
      },
      "source": [
        ""
      ],
      "execution_count": 0,
      "outputs": []
    }
  ]
}
{
 "cells": [
  {
   "cell_type": "code",
   "execution_count": 1,
   "metadata": {
    "collapsed": true
   },
   "outputs": [],
   "source": [
    "%matplotlib inline\n",
    "\n",
    "import numpy as np\n",
    "import matplotlib.pyplot as plt\n",
    "import pandas as pd"
   ]
  },
  {
   "cell_type": "code",
   "execution_count": 5,
   "metadata": {},
   "outputs": [
    {
     "name": "stdout",
     "output_type": "stream",
     "text": [
      "九九乘法表\n",
      "\n",
      "1X1=1\t1X2=1\t1X3=1\t1X4=1\t1X5=1\t1X6=1\t1X7=1\t1X8=1\t1X9=1\t\n",
      "2X1=2\t2X2=2\t2X3=2\t2X4=2\t2X5=2\t2X6=2\t2X7=2\t2X8=2\t2X9=2\t\n",
      "3X1=3\t3X2=3\t3X3=3\t3X4=3\t3X5=3\t3X6=3\t3X7=3\t3X8=3\t3X9=3\t\n",
      "4X1=4\t4X2=4\t4X3=4\t4X4=4\t4X5=4\t4X6=4\t4X7=4\t4X8=4\t4X9=4\t\n",
      "5X1=5\t5X2=5\t5X3=5\t5X4=5\t5X5=5\t5X6=5\t5X7=5\t5X8=5\t5X9=5\t\n",
      "6X1=6\t6X2=6\t6X3=6\t6X4=6\t6X5=6\t6X6=6\t6X7=6\t6X8=6\t6X9=6\t\n",
      "7X1=7\t7X2=7\t7X3=7\t7X4=7\t7X5=7\t7X6=7\t7X7=7\t7X8=7\t7X9=7\t\n",
      "8X1=8\t8X2=8\t8X3=8\t8X4=8\t8X5=8\t8X6=8\t8X7=8\t8X8=8\t8X9=8\t\n",
      "9X1=9\t9X2=9\t9X3=9\t9X4=9\t9X5=9\t9X6=9\t9X7=9\t9X8=9\t9X9=9\t\n"
     ]
    }
   ],
   "source": [
    "print(\"九九乘法表\")\n",
    "print()        \n",
    "for x in range(1,10):             \n",
    "    for y in range(1,10):\n",
    "\n",
    "        table = x * y\n",
    "\n",
    "        print('%dX%d=%d'%(x,y,x),end=\"\"+\"\\t\")\n",
    "    print()  "
   ]
  },
  {
   "cell_type": "code",
   "execution_count": null,
   "metadata": {
    "collapsed": true
   },
   "outputs": [],
   "source": []
  }
 ],
 "metadata": {
  "kernelspec": {
   "display_name": "Python 3",
   "language": "python",
   "name": "python3"
  },
  "language_info": {
   "codemirror_mode": {
    "name": "ipython",
    "version": 3
   },
   "file_extension": ".py",
   "mimetype": "text/x-python",
   "name": "python",
   "nbconvert_exporter": "python",
   "pygments_lexer": "ipython3",
   "version": "3.6.2"
  }
 },
 "nbformat": 4,
 "nbformat_minor": 2
}

{
 "cells": [
  {
   "cell_type": "code",
   "execution_count": 1,
   "metadata": {
    "collapsed": true
   },
   "outputs": [],
   "source": [
    "%matplotlib inline\n",
    "\n",
    "import numpy as np\n",
    "import matplotlib.pyplot as plt\n",
    "import pandas as pd"
   ]
  },
  {
   "cell_type": "markdown",
   "metadata": {},
   "source": [
    "#### 用love畫一個愛心"
   ]
  },
  {
   "cell_type": "code",
   "execution_count": 30,
   "metadata": {},
   "outputs": [
    {
     "name": "stdout",
     "output_type": "stream",
     "text": [
      " \u001b[0;31;40m                      HAPPY NEW YEAR!                   \u001b[0m \n",
      " \u001b[0;31;40m                      HAPPY NEW YEAR!                   \u001b[0m \n",
      " \u001b[0;31;40m                      HAPPY NEW YEAR!                   \u001b[0m \n",
      " \u001b[0;31;40m                      HAPPY NEW YEAR!                   \u001b[0m \n",
      " \u001b[0;31;40m                      HAPPY NEW YEAR!                   \u001b[0m \n",
      " \u001b[0;31;40m                      HAPPY NEW YEAR!                   \u001b[0m \n",
      " \u001b[0;31;40m                      HAPPY NEW YEAR!                   \u001b[0m \n",
      "                                                            \n",
      "                                                            \n",
      "                                                            \n",
      "                velovelov           velovelov               \n",
      "            elovelovelovelove   elovelovelovelove           \n",
      "          velovelovelovelovelovelovelovelovelovelov         \n",
      "         velovelovelovelovelovelovelovelovelovelovel        \n",
      "        velovelovelovelovelovelovelovelovelovelovelov       \n",
      "        elovelovelovelovelovelovelovelovelovelovelove       \n",
      "        lovelovelovelovelovelovelovelovelovelovelovel       \n",
      "        ovelovelovelovelovelovelovelovelovelovelovelo       \n",
      "        velovelovelovelovelovelovelovelovelovelovelov       \n",
      "        elovelovelovelovelovelovelovelovelovelovelove       \n",
      "         ovelovelovelovelovelovelovelovelovelovelove        \n",
      "          elovelovelovelovelovelovelovelovelovelove         \n",
      "          lovelovelovelovelovelovelovelovelovelovel         \n",
      "            elovelovelovelovelovelovelovelovelove           \n",
      "             ovelovelovelovelovelovelovelovelove            \n",
      "              elovelovelovelovelovelovelovelove             \n",
      "                velovelovelovelovelovelovelov               \n",
      "                  ovelovelovelovelovelovelo                 \n",
      "                    lovelovelovelovelovel                   \n",
      "                       lovelovelovelov                      \n",
      "                          lovelovel                         \n",
      "                             lov                            \n",
      "                              v                             \n",
      "                                                            \n",
      "                                                            \n",
      "                                                            \n",
      "                                                            \n",
      "\n",
      "\u001b[1;31;40m                         HAPPY NEW YEAR!                      \u001b[0m\n",
      "\u001b[1;31;40m                         HAPPY NEW YEAR!                      \u001b[0m\n",
      "\u001b[1;31;40m                         HAPPY NEW YEAR!                      \u001b[0m\n",
      "\u001b[1;31;40m                         HAPPY NEW YEAR!                      \u001b[0m\n",
      "\u001b[1;31;40m                         HAPPY NEW YEAR!                      \u001b[0m\n",
      "\u001b[1;31;40m                         HAPPY NEW YEAR!                      \u001b[0m\n",
      "\u001b[1;31;40m                         HAPPY NEW YEAR!                      \u001b[0m\n"
     ]
    }
   ],
   "source": [
    "print ( \" \\033[0;31;40m                      HAPPY NEW YEAR!                   \\033[0m \" ) \n",
    "print ( \" \\033[0;31;40m                      HAPPY NEW YEAR!                   \\033[0m \" )\n",
    "print ( \" \\033[0;31;40m                      HAPPY NEW YEAR!                   \\033[0m \" )\n",
    "print ( \" \\033[0;31;40m                      HAPPY NEW YEAR!                   \\033[0m \" )\n",
    "print ( \" \\033[0;31;40m                      HAPPY NEW YEAR!                   \\033[0m \" )\n",
    "print ( \" \\033[0;31;40m                      HAPPY NEW YEAR!                   \\033[0m \" )\n",
    "print ( \" \\033[0;31;40m                      HAPPY NEW YEAR!                   \\033[0m \" )\n",
    "\n",
    "print('\\n'.join([''.join([('love'[(x-y)%4]if((x*0.05)**2+(y*0.1)**2-1)**3-(x*0.05)**2*(y*0.1)**3<=0 else' ')for x in range(-30,30)])for y in range(15,-15,-1)]))\n",
    "print()\n",
    "print(\"\\033[1;31;40m                         HAPPY NEW YEAR!                      \\033[0m\")\n",
    "print(\"\\033[1;31;40m                         HAPPY NEW YEAR!                      \\033[0m\")\n",
    "print(\"\\033[1;31;40m                         HAPPY NEW YEAR!                      \\033[0m\")\n",
    "print(\"\\033[1;31;40m                         HAPPY NEW YEAR!                      \\033[0m\")\n",
    "print(\"\\033[1;31;40m                         HAPPY NEW YEAR!                      \\033[0m\")\n",
    "print(\"\\033[1;31;40m                         HAPPY NEW YEAR!                      \\033[0m\")\n",
    "print(\"\\033[1;31;40m                         HAPPY NEW YEAR!                      \\033[0m\")"
   ]
  },
  {
   "cell_type": "code",
   "execution_count": null,
   "metadata": {
    "collapsed": true
   },
   "outputs": [],
   "source": []
  }
 ],
 "metadata": {
  "kernelspec": {
   "display_name": "Python 3",
   "language": "python",
   "name": "python3"
  },
  "language_info": {
   "codemirror_mode": {
    "name": "ipython",
    "version": 3
   },
   "file_extension": ".py",
   "mimetype": "text/x-python",
   "name": "python",
   "nbconvert_exporter": "python",
   "pygments_lexer": "ipython3",
   "version": "3.6.2"
  }
 },
 "nbformat": 4,
 "nbformat_minor": 2
}

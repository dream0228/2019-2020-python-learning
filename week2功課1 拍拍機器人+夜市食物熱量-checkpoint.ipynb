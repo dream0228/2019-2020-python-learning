{
 "cells": [
  {
   "cell_type": "code",
   "execution_count": 1,
   "metadata": {},
   "outputs": [
    {
     "name": "stdout",
     "output_type": "stream",
     "text": [
      "ㄟ周末要幹嘛\n",
      ">> 唱k\n",
      " (┛`д´) :我是音癡，不想當分母\n",
      ">> 賞夜景\n",
      " (┛`д´) :不要\n",
      ">> 看電影\n",
      " (┛`д´) :沒有想看的電影ㄟ\n",
      ">> DIY麵包\n",
      " (┛`д´) :不要\n",
      ">> 聽演唱會\n",
      " (┛`д´) :票早就賣完了...\n",
      ">> 逛街\n",
      " (┛`д´) :沒錢啦\n",
      ">> 跑步\n",
      " (┛`д´) :運動會死\n",
      ">> 等等，我們明天是不是要交數軟功課...\n",
      " (┛`д´) :嗯嗯!!!!!!(驚恐\n"
     ]
    }
   ],
   "source": [
    "# 拍拍機器人\n",
    "\n",
    "msg=\"要記得交功課啦\"\n",
    "print(\"ㄟ周末要幹嘛\")\n",
    "while(msg!=\"等等，我們明天是不是要交數軟功課...\"):\n",
    "    msg=input(\">> \")\n",
    "    if(\"唱k\" in msg):\n",
    "        print(\" (┛`д´) :我是音癡，不想當分母\")\n",
    "    elif(\"看電影\"in msg):\n",
    "        print(\" (┛`д´) :沒有想看的電影ㄟ\")\n",
    "    elif(\"跑步\"in msg):\n",
    "        print(\" (┛`д´) :運動會死\")\n",
    "    elif(\"逛街\"in msg):\n",
    "        print(\" (┛`д´) :沒錢啦\")\n",
    "    elif(\"聽演唱會\"in msg):\n",
    "        print(\" (┛`д´) :票早就賣完了...\")\n",
    "    elif(\"等等，我們明天是不是要交數軟功課...\"in msg):\n",
    "        print(\" (┛`д´) :嗯嗯!!!!!!(驚恐\")\n",
    "    else:\n",
    "        print(\" (┛`д´) :不要\")\n",
    "    \n",
    "    "
   ]
  },
  {
   "cell_type": "code",
   "execution_count": null,
   "metadata": {
    "collapsed": true
   },
   "outputs": [],
   "source": []
  },
  {
   "cell_type": "code",
   "execution_count": null,
   "metadata": {
    "collapsed": true
   },
   "outputs": [],
   "source": []
  },
  {
   "cell_type": "markdown",
   "metadata": {},
   "source": [
    "# 夜市食物熱量"
   ]
  },
  {
   "cell_type": "code",
   "execution_count": 3,
   "metadata": {},
   "outputs": [
    {
     "name": "stdout",
     "output_type": "stream",
     "text": [
      "夜市食物熱量\n"
     ]
    },
    {
     "data": {
      "application/vnd.jupyter.widget-view+json": {
       "model_id": "851c4b18b71248458c9789d7460d2afc",
       "version_major": 2,
       "version_minor": 0
      },
      "text/plain": [
       "A Jupyter Widget"
      ]
     },
     "metadata": {},
     "output_type": "display_data"
    }
   ],
   "source": [
    "from ipywidgets import interact\n",
    "print(\"夜市食物熱量\")\n",
    "\n",
    "def Calorie(小吃):\n",
    "    print(小吃)\n",
    "interact (Calorie,小吃=dict(食物熱量=(\" \"),\n",
    "                           烤香腸=(\"一條  359大卡\"),\n",
    "                           臭豆腐=(\"一份  565大卡\"),\n",
    "                           蔥油餅=(\"一個  500大卡\"),\n",
    "                           肉圓=(\"一個  494大卡\"),\n",
    "                           筒仔米糕=(\"一份  285大卡\"),\n",
    "                           章魚燒=(\"六顆  297大卡\"),\n",
    "                           營養三明治=(\"一個  468大卡\"),\n",
    "                           炭烤雞排=(\"一個  438大卡\"),\n",
    "                           生煎包=(\"一個  259大卡\"),\n",
    "                           豬血糕=(\"一個  235大卡\"),\n",
    "                           珍珠奶茶=(\"大杯  650大卡\"),\n",
    "                           韭菜盒=(\"一個  260大卡\")));"
   ]
  },
  {
   "cell_type": "code",
   "execution_count": null,
   "metadata": {
    "collapsed": true
   },
   "outputs": [],
   "source": []
  }
 ],
 "metadata": {
  "kernelspec": {
   "display_name": "Python 3",
   "language": "python",
   "name": "python3"
  },
  "language_info": {
   "codemirror_mode": {
    "name": "ipython",
    "version": 3
   },
   "file_extension": ".py",
   "mimetype": "text/x-python",
   "name": "python",
   "nbconvert_exporter": "python",
   "pygments_lexer": "ipython3",
   "version": "3.6.2"
  }
 },
 "nbformat": 4,
 "nbformat_minor": 2
}

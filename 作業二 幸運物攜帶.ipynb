{
 "cells": [
  {
   "cell_type": "code",
   "execution_count": 15,
   "metadata": {
    "collapsed": true
   },
   "outputs": [],
   "source": [
    "%matplotlib inline\n",
    "\n",
    "import numpy as np\n",
    "import matplotlib.pyplot as plt\n",
    "import pandas as pd\n",
    "import random"
   ]
  },
  {
   "cell_type": "code",
   "execution_count": 16,
   "metadata": {
    "collapsed": true
   },
   "outputs": [],
   "source": [
    "from numpy.random import randint"
   ]
  },
  {
   "cell_type": "code",
   "execution_count": 10,
   "metadata": {},
   "outputs": [],
   "source": [
    "\n",
    "items = '''           \n",
    "紫水晶\n",
    "乾燥玫瑰\n",
    "綠色襪子\n",
    "貓眼石\n",
    "黃金項鍊\n",
    "銀戒指\n",
    "不倒翁\n",
    "鴨舌帽\n",
    "珍珠\n",
    "一千塊\n",
    "符咒\n",
    "紅線\n",
    "泰迪熊\n",
    "四葉草\n",
    "風鈴\n",
    "金平糖\n",
    "吐司邊\n",
    "車票票根\n",
    "鈴鐺\n",
    "保溫杯\n",
    "假髮\n",
    "小豬撲滿\n",
    "黑框眼鏡\n",
    "碎花手帕\n",
    "格紋襯衫\n",
    "奶嘴''' "
   ]
  },
  {
   "cell_type": "code",
   "execution_count": 11,
   "metadata": {},
   "outputs": [],
   "source": [
    "select=items.split(\"\\n\")"
   ]
  },
  {
   "cell_type": "code",
   "execution_count": 17,
   "metadata": {},
   "outputs": [
    {
     "name": "stdout",
     "output_type": "stream",
     "text": [
      "你今天要帶幾個護身符啊?\n",
      "3\n",
      "['黃金項鍊', '假髮', '風鈴']\n"
     ]
    }
   ],
   "source": [
    "print(\"你今天要帶幾個護身符啊?\")\n",
    "a=input(\"\")\n",
    "ran_select=random.sample(select,int(a))\n",
    "print(ran_select)"
   ]
  },
  {
   "cell_type": "code",
   "execution_count": null,
   "metadata": {
    "collapsed": true
   },
   "outputs": [],
   "source": []
  }
 ],
 "metadata": {
  "kernelspec": {
   "display_name": "Python 3",
   "language": "python",
   "name": "python3"
  },
  "language_info": {
   "codemirror_mode": {
    "name": "ipython",
    "version": 3
   },
   "file_extension": ".py",
   "mimetype": "text/x-python",
   "name": "python",
   "nbconvert_exporter": "python",
   "pygments_lexer": "ipython3",
   "version": "3.6.2"
  }
 },
 "nbformat": 4,
 "nbformat_minor": 2
}

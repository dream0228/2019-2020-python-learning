{
 "cells": [
  {
   "cell_type": "code",
   "execution_count": 1,
   "metadata": {
    "collapsed": true
   },
   "outputs": [],
   "source": [
    "%matplotlib inline\n",
    "\n",
    "import numpy as np\n",
    "import matplotlib.pyplot as plt\n",
    "import pandas as pd"
   ]
  },
  {
   "cell_type": "markdown",
   "metadata": {},
   "source": [
    "###  開學拍拍機器人"
   ]
  },
  {
   "cell_type": "code",
   "execution_count": 2,
   "metadata": {},
   "outputs": [
    {
     "name": "stdout",
     "output_type": "stream",
     "text": [
      "🙋:嗨，你今天怎麼了\n",
      ">> 我今天開學了\n",
      "🙋:可憐吶，拍拍\n",
      ">> 我想耍廢\n",
      "🙋:你已經夠廢了\n",
      ">> 在家當媽寶/爸寶很棒ㄟ，醒來有人煮飯\n",
      "🙋:可憐吶，拍拍\n",
      ">> 我不想動\n",
      "🙋:你胖了五公斤\n",
      ">> 好煩喔\n",
      "🙋:可憐吶，拍拍\n",
      ">> 需要拍拍\n",
      "🙋:可憐吶，拍拍\n",
      ">> 不跟你聊了，要去寫報告\n",
      "🙋:可憐吶，掰囉\n"
     ]
    }
   ],
   "source": [
    "chat=\"討拍拍\"\n",
    "print(\"🙋:嗨，你今天怎麼了\")\n",
    "while(chat!=\"不跟你聊了，要去寫報告\"):\n",
    "    chat=input(\">> \")\n",
    "    if(\"我想耍廢\"in chat):\n",
    "        print(\"🙋:你已經夠廢了\")\n",
    "    elif(\"我不想動\"in chat):\n",
    "        print(\"🙋:你胖了五公斤\")\n",
    "    elif(\"今天好熱\"in chat):\n",
    "        print(\"🙋:我也很熱\")\n",
    "    elif(\"不跟你聊了，要去寫報告\"in chat):\n",
    "        print(\"🙋:可憐吶，掰囉\")\n",
    "    else:\n",
    "        print(\"🙋:可憐吶，拍拍\")"
   ]
  },
  {
   "cell_type": "code",
   "execution_count": null,
   "metadata": {
    "collapsed": true
   },
   "outputs": [],
   "source": []
  }
 ],
 "metadata": {
  "kernelspec": {
   "display_name": "Python 3",
   "language": "python",
   "name": "python3"
  },
  "language_info": {
   "codemirror_mode": {
    "name": "ipython",
    "version": 3
   },
   "file_extension": ".py",
   "mimetype": "text/x-python",
   "name": "python",
   "nbconvert_exporter": "python",
   "pygments_lexer": "ipython3",
   "version": "3.6.2"
  }
 },
 "nbformat": 4,
 "nbformat_minor": 2
}

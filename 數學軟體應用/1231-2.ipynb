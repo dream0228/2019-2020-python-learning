{
 "cells": [
  {
   "cell_type": "code",
   "execution_count": 2,
   "metadata": {
    "collapsed": true
   },
   "outputs": [],
   "source": [
    "%matplotlib inline\n",
    "\n",
    "import numpy as np\n",
    "import matplotlib.pyplot as plt\n",
    "import pandas as pd"
   ]
  },
  {
   "cell_type": "markdown",
   "metadata": {},
   "source": [
    "### 懶人穿搭"
   ]
  },
  {
   "cell_type": "code",
   "execution_count": 18,
   "metadata": {
    "collapsed": true
   },
   "outputs": [],
   "source": [
    "class clothes:\n",
    "    TOPS = [\"白襯衫\", \"無袖背心\", \"雪紡上衣\", \"大學t\", \"紅毛衣\", \"政大帽t\", \"格紋襯衫\"]\n",
    "    DOWN = ['西裝褲', '牛仔短褲', '闊腿褲', '及膝裙', '吊帶褲', '運動褲', '迷你裙', '打底褲', '牛仔長褲', '貼身針織裙', '西裝裙', '百褶裙']\n",
    "    \n",
    "    def __init__(self, t, d):\n",
    "        self.tops= t\n",
    "        self.down = d\n",
    "        \n",
    "    def __repr__(self):\n",
    "        themenu = self.TOPS[self.tops] + self.DOWN[self.down]\n",
    "        return themenu\n",
    "def chx():\n",
    "    a = np.random.randint(0, 6)\n",
    "    return a\n",
    "def chy():\n",
    "    b = np.random.randint(0, 12)\n",
    "    return b"
   ]
  },
  {
   "cell_type": "code",
   "execution_count": 26,
   "metadata": {
    "scrolled": true
   },
   "outputs": [
    {
     "name": "stdout",
     "output_type": "stream",
     "text": [
      "您今天穿著為:\n",
      "\n",
      "雪紡上衣牛仔短褲\n"
     ]
    }
   ],
   "source": [
    "print('您今天穿著為:')\n",
    "print()\n",
    "for i in range(1):\n",
    "    print(clothes(chx(), chy()))"
   ]
  },
  {
   "cell_type": "code",
   "execution_count": null,
   "metadata": {
    "collapsed": true
   },
   "outputs": [],
   "source": []
  }
 ],
 "metadata": {
  "kernelspec": {
   "display_name": "Python 3",
   "language": "python",
   "name": "python3"
  },
  "language_info": {
   "codemirror_mode": {
    "name": "ipython",
    "version": 3
   },
   "file_extension": ".py",
   "mimetype": "text/x-python",
   "name": "python",
   "nbconvert_exporter": "python",
   "pygments_lexer": "ipython3",
   "version": "3.6.2"
  }
 },
 "nbformat": 4,
 "nbformat_minor": 2
}

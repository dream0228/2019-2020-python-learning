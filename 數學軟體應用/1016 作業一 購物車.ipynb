{
 "cells": [
  {
   "cell_type": "code",
   "execution_count": 1,
   "metadata": {
    "collapsed": true
   },
   "outputs": [],
   "source": [
    "%matplotlib inline\n",
    "\n",
    "import numpy as np\n",
    "import matplotlib.pyplot as plt\n",
    "import pandas as pd"
   ]
  },
  {
   "cell_type": "code",
   "execution_count": 2,
   "metadata": {},
   "outputs": [
    {
     "name": "stdout",
     "output_type": "stream",
     "text": [
      "~歡迎光臨~線上政大紀念品商店，請依照下列指示操作:\n",
      "請輸入購物金額度，再按enter： 2000\n",
      "---------------商品列表----------------\n",
      "No.0, NCCU深山版帽T, NT840\n",
      "No.1, 政大雄鷹經典帽T, NT990\n",
      "No.2, NCCU純棉運動毛巾, NT350\n",
      "No.3, 政大藍白校景剪影禮物罐, NT350\n",
      "No.4, 拼圖茶葉禮盒, NT250\n",
      "No.5, 春花領帶, NT500\n",
      "No.6, 政大徽章飲料杯袋, NT100\n",
      "No.7, 政,需要能量兩用便當袋, NT380\n",
      "No.8, 政治大學中英文校名小書包, NT250\n",
      "No.9, 小環保袋, NT45\n",
      "No.10, NCCU聖誕快樂小熊, NT275\n",
      "\n",
      "請輸入購買商品編號（按enter購買，輸入 exit 結束此次購買）：4000\n",
      "查無此商品，請重新確認\n",
      "請輸入購買商品編號（按enter即購買，輸入 exit 結束此次購買）：3\n",
      "您已購買[政大藍白校景剪影禮物罐]，價值[NT350]，您的餘額：NT1650\n",
      "請輸入購買商品編號（按enter即購買，輸入 exit 結束此次購買）：5\n",
      "您已購買[春花領帶]，價值[NT500]，您的餘額：NT1150\n",
      "請輸入購買商品編號（按enter即購買，輸入 exit 結束此次購買）：哈哈\n",
      "請輸入有效的商品數字編號喔^^\n",
      "請輸入購買商品編號（按enter即購買，輸入 exit 結束此次購買）：˙\n",
      "請輸入有效的商品數字編號喔^^\n",
      "請輸入購買商品編號（按enter即購買，輸入 exit 結束此次購買）：9\n",
      "您已購買[小環保袋]，價值[NT45]，您的餘額：NT1105\n",
      "請輸入購買商品編號（按enter即購買，輸入 exit 結束此次購買）：10\n",
      "您已購買[NCCU聖誕快樂小熊]，價值[NT275]，您的餘額：NT830\n",
      "請輸入購買商品編號（按enter即購買，輸入 exit 結束此次購買）：3\n",
      "您已購買[政大藍白校景剪影禮物罐]，價值[NT350]，您的餘額：NT480\n",
      "請輸入購買商品編號（按enter即購買，輸入 exit 結束此次購買）：4\n",
      "您已購買[拼圖茶葉禮盒]，價值[NT250]，您的餘額：NT230\n",
      "請輸入購買商品編號（按enter即購買，輸入 exit 結束此次購買）：1\n",
      "抱歉，您的餘額不足。請重新選擇商品\n",
      "請輸入購買商品編號（按enter即購買，輸入 exit 結束此次購買）：2\n",
      "抱歉，您的餘額不足。請重新選擇商品\n",
      "請輸入購買商品編號（按enter即購買，輸入 exit 結束此次購買）：6\n",
      "您已購買[政大徽章飲料杯袋]，價值[NT100]，您的餘額：NT130\n",
      "請輸入購買商品編號（按enter即購買，輸入 exit 結束此次購買）：exit\n",
      "--------------購物車清單-------------\n",
      "No.0, 政大藍白校景剪影禮物罐, NT350\n",
      "No.1, 春花領帶, NT500\n",
      "No.2, 小環保袋, NT45\n",
      "No.3, NCCU聖誕快樂小熊, NT275\n",
      "No.4, 政大藍白校景剪影禮物罐, NT350\n",
      "No.5, 拼圖茶葉禮盒, NT250\n",
      "No.6, 政大徽章飲料杯袋, NT100\n",
      "餘額: 130\n"
     ]
    }
   ],
   "source": [
    "print(\"~歡迎光臨~線上政大紀念品商店，請依照指示操作:\")\n",
    "\n",
    "moeny = input(\"請輸入購物金額度，再按enter： \")\n",
    "\n",
    "goods =[\n",
    "    [\"NCCU深山版帽T\",840],\n",
    "    [\"政大雄鷹經典帽T\",990],\n",
    "    [\"NCCU純棉運動毛巾\",350],\n",
    "    [\"政大藍白校景剪影禮物罐\",350],\n",
    "    [\"拼圖茶葉禮盒\",250],\n",
    "    [\"春花領帶\",500],\n",
    "    [\"政大徽章飲料杯袋\",100],\n",
    "    [\"政,需要能量兩用便當袋\",380],\n",
    "    [\"政治大學中英文校名小書包\",250],\n",
    "    [\"小環保袋\",45],\n",
    "    [\"NCCU聖誕快樂小熊\",275],\n",
    "]\n",
    "if moeny.isdigit(): \n",
    "    moeny = int(moeny)\n",
    "    lists = '---------------商品列表----------------\\n'\n",
    "\n",
    "    for index,item in enumerate(goods): \n",
    "        lists += \"No.%d, %s, NT%d\" %(index,item[0],item[1]) + \"\\n\"\n",
    "\n",
    "    print(lists)\n",
    "\n",
    "    cart = []\n",
    "    num = input(\"請輸入購買商品編號（按enter購買，輸入 exit 結束此次購買）：\")\n",
    "    while num != 'exit':\n",
    "        if num.isdigit():\n",
    "            if(int(num) < len(goods)):\n",
    "                item = goods[int(num)]\n",
    "                if moeny >= item[1]:\n",
    "                    cart.append(item)\n",
    "                    moeny -= item[1]\n",
    "                    print(\"您已購買[\" + item[0] + \"]，價值[NT\" + str(item[1]) + \"]，您的餘額：NT\" + str(moeny))\n",
    "                else:\n",
    "                    print(\"抱歉，您的餘額不足。請重新選擇商品\")\n",
    "            else:\n",
    "                print(\"查無此商品，請重新確認\")\n",
    "        else:\n",
    "            print(\"請輸入有效的商品數字編號喔^^\")\n",
    "        num = input(\"請輸入購買商品編號（按enter即購買，輸入 exit 結束此次購買）：\")\n",
    "\n",
    "    conclusion = \"--------------購物車清單-------------\\n\"\n",
    "    for index,item in enumerate(cart):\n",
    "        conclusion += \"No.%d, %s, NT%d\" %(index,item[0],item[1]) + \"\\n\"\n",
    "    conclusion += \"餘額: \"+str(moeny)\n",
    "    print(conclusion)\n",
    "\n",
    "else:\n",
    "    print(\"請輸入有效的數字金額喔^^\")"
   ]
  },
  {
   "cell_type": "code",
   "execution_count": null,
   "metadata": {
    "collapsed": true
   },
   "outputs": [],
   "source": []
  }
 ],
 "metadata": {
  "kernelspec": {
   "display_name": "Python 3",
   "language": "python",
   "name": "python3"
  },
  "language_info": {
   "codemirror_mode": {
    "name": "ipython",
    "version": 3
   },
   "file_extension": ".py",
   "mimetype": "text/x-python",
   "name": "python",
   "nbconvert_exporter": "python",
   "pygments_lexer": "ipython3",
   "version": "3.6.2"
  }
 },
 "nbformat": 4,
 "nbformat_minor": 2
}

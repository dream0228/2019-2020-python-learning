{
 "cells": [
  {
   "cell_type": "code",
   "execution_count": 1,
   "metadata": {
    "collapsed": true
   },
   "outputs": [],
   "source": [
    "%matplotlib inline\n",
    "\n",
    "import numpy as np\n",
    "import matplotlib.pyplot as plt\n",
    "import pandas as pd"
   ]
  },
  {
   "cell_type": "code",
   "execution_count": 13,
   "metadata": {
    "collapsed": true
   },
   "outputs": [],
   "source": [
    "class Menu:\n",
    "    METHODS = [\"炭烤\", \"水煮\", \"清蒸\", \"油炸\", \"燉煮\", \"生吃\", \"嫩肩\"]\n",
    "    FOODS = ['牛舌', '豬五花', '羊腿', '雞胸', '鮭魚排', '鴨翅', '魷魚厚片', '天使紅蝦', '水果玉米', '蘿蔔絲', '馬鈴薯丁', '豆干']\n",
    "    \n",
    "    def __init__(self, m, f):\n",
    "        self.method= m\n",
    "        self.food = f\n",
    "        \n",
    "    def __repr__(self):\n",
    "        themenu = self.METHODS[self.method] + self.FOODS[self.food]\n",
    "        return themenu\n",
    "def chx():\n",
    "    a = np.random.randint(0, 6)\n",
    "    return a\n",
    "def chy():\n",
    "    b = np.random.randint(0, 12)\n",
    "    return b"
   ]
  },
  {
   "cell_type": "code",
   "execution_count": 17,
   "metadata": {},
   "outputs": [
    {
     "name": "stdout",
     "output_type": "stream",
     "text": [
      "您今天的四道創意料理為:\n",
      "\n",
      "油炸蘿蔔絲\n",
      "炭烤豬五花\n",
      "清蒸魷魚厚片\n",
      "水煮牛舌\n"
     ]
    }
   ],
   "source": [
    "print('您今天的四道創意料理為:')\n",
    "print()\n",
    "for i in range(4):\n",
    "    print(Menu(chx(), chy()))"
   ]
  },
  {
   "cell_type": "code",
   "execution_count": null,
   "metadata": {
    "collapsed": true
   },
   "outputs": [],
   "source": []
  }
 ],
 "metadata": {
  "kernelspec": {
   "display_name": "Python 3",
   "language": "python",
   "name": "python3"
  },
  "language_info": {
   "codemirror_mode": {
    "name": "ipython",
    "version": 3
   },
   "file_extension": ".py",
   "mimetype": "text/x-python",
   "name": "python",
   "nbconvert_exporter": "python",
   "pygments_lexer": "ipython3",
   "version": "3.6.2"
  }
 },
 "nbformat": 4,
 "nbformat_minor": 2
}

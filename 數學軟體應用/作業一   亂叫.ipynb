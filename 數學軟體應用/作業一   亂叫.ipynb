{
 "cells": [
  {
   "cell_type": "code",
   "execution_count": 1,
   "metadata": {
    "collapsed": true
   },
   "outputs": [],
   "source": [
    "%matplotlib inline\n",
    "\n",
    "import numpy as np\n",
    "import matplotlib.pyplot as plt\n",
    "import pandas as pd"
   ]
  },
  {
   "cell_type": "code",
   "execution_count": 25,
   "metadata": {
    "collapsed": true
   },
   "outputs": [],
   "source": [
    "from random import randint, choices, sample\n",
    "sound = '''           \n",
    "嘎\n",
    "吧\n",
    "啦\n",
    "嘻\n",
    "嗚\n",
    "呵\n",
    "咕\n",
    "咯\n",
    "嗯\n",
    "啊\n",
    "呱\n",
    "呸\n",
    "呦\n",
    "喔\n",
    "哦\n",
    "哞\n",
    "嘰\n",
    "吱\n",
    "呀\n",
    "唉\n",
    "咻\n",
    "嘘\n",
    "喵\n",
    "喳\n",
    "喳\n",
    "哈''' "
   ]
  },
  {
   "cell_type": "code",
   "execution_count": 29,
   "metadata": {},
   "outputs": [
    {
     "name": "stdout",
     "output_type": "stream",
     "text": [
      "吧 嘻 咻 嘘 喳 哦 唉 呱\n",
      "吱 啦             咯 哦 嗯 呦 哈\n",
      "嘘 呸 咯             嘻 吧 嗯 咻 喳 啦\n",
      "吧 咕 咻 喳 咯             啊 哈\n",
      "呵 嘻 哈 呸 呀 喳 咻 呦 喵 咯\n",
      "呱 哈 喵 嘰 咯 嘎 吧 唉 喳 呵\n",
      "嘘 呱 啦 喵 嗚 嗯 嘻 呦 哈 呀\n",
      "咻 嘻 哦 嘎 嗚 喵 呸 啦 唉 咯\n",
      "哦 呱             哞 咕 啦 唉 啊\n"
     ]
    }
   ],
   "source": [
    "words = st.split('\\n')\n",
    "\n",
    "def poem():\n",
    "\n",
    "    n = randint(5, 9) \n",
    "\n",
    "    for i in range(n):\n",
    "\n",
    "        m = randint(7, 10) \n",
    "\n",
    "        sentence = sample(words, m)\n",
    "\n",
    "        print(\" \".join(sentence))\n",
    "\n",
    "poem()"
   ]
  },
  {
   "cell_type": "code",
   "execution_count": null,
   "metadata": {
    "collapsed": true
   },
   "outputs": [],
   "source": []
  }
 ],
 "metadata": {
  "kernelspec": {
   "display_name": "Python 3",
   "language": "python",
   "name": "python3"
  },
  "language_info": {
   "codemirror_mode": {
    "name": "ipython",
    "version": 3
   },
   "file_extension": ".py",
   "mimetype": "text/x-python",
   "name": "python",
   "nbconvert_exporter": "python",
   "pygments_lexer": "ipython3",
   "version": "3.6.2"
  }
 },
 "nbformat": 4,
 "nbformat_minor": 2
}

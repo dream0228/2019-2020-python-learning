{
  "nbformat": 4,
  "nbformat_minor": 0,
  "metadata": {
    "colab": {
      "name": "0319作業/神經網路.ipynb",
      "provenance": [],
      "collapsed_sections": []
    },
    "kernelspec": {
      "name": "python3",
      "display_name": "Python 3"
    },
    "accelerator": "TPU"
  },
  "cells": [
    {
      "cell_type": "markdown",
      "metadata": {
        "id": "hEodXlWWmOdI",
        "colab_type": "text"
      },
      "source": [
        "## Step1.前置作業\n",
        "#### 讀入標準套件"
      ]
    },
    {
      "cell_type": "code",
      "metadata": {
        "id": "Ah-N3WBbmTJq",
        "colab_type": "code",
        "colab": {}
      },
      "source": [
        "%matplotlib inline                \n",
        "\n",
        "import numpy as np\n",
        "import matplotlib.pyplot as plt\n",
        "import pandas as pd"
      ],
      "execution_count": 0,
      "outputs": []
    },
    {
      "cell_type": "markdown",
      "metadata": {
        "id": "cyLn9Wa9uMoK",
        "colab_type": "text"
      },
      "source": [
        "#### 讀入Tensorflow"
      ]
    },
    {
      "cell_type": "markdown",
      "metadata": {
        "id": "i2V8QfgevE8U",
        "colab_type": "text"
      },
      "source": [
        ""
      ]
    },
    {
      "cell_type": "code",
      "metadata": {
        "id": "WIz72pwbmU3A",
        "colab_type": "code",
        "colab": {}
      },
      "source": [
        "import tensorflow as tf  # 讀入Tensorflow"
      ],
      "execution_count": 0,
      "outputs": []
    },
    {
      "cell_type": "markdown",
      "metadata": {
        "id": "rIA0PG1IvIb2",
        "colab_type": "text"
      },
      "source": [
        "### Step2. 讀入 MNSIT 數據集"
      ]
    },
    {
      "cell_type": "code",
      "metadata": {
        "id": "Qcsa3Bphux7r",
        "colab_type": "code",
        "colab": {}
      },
      "source": [
        " from tensorflow.keras.datasets import fashion_mnist  #讀入Fashion 版的 MNIST "
      ],
      "execution_count": 0,
      "outputs": []
    },
    {
      "cell_type": "code",
      "metadata": {
        "id": "48TJPyGNvZPA",
        "colab_type": "code",
        "colab": {}
      },
      "source": [
        "(x_train,y_train),(x_test,y_test)=fashion_mnist.load_data()"
      ],
      "execution_count": 0,
      "outputs": []
    },
    {
      "cell_type": "markdown",
      "metadata": {
        "id": "_KNZTASQw37F",
        "colab_type": "text"
      },
      "source": [
        "### Step3.欣賞數據集內容"
      ]
    },
    {
      "cell_type": "code",
      "metadata": {
        "id": "ap7NYvyQv0L3",
        "colab_type": "code",
        "colab": {
          "base_uri": "https://localhost:8080/",
          "height": 34
        },
        "outputId": "93dd4e00-6683-41aa-a44a-67098c2ef78f"
      },
      "source": [
        "len(x_train)"
      ],
      "execution_count": 53,
      "outputs": [
        {
          "output_type": "execute_result",
          "data": {
            "text/plain": [
              "60000"
            ]
          },
          "metadata": {
            "tags": []
          },
          "execution_count": 53
        }
      ]
    },
    {
      "cell_type": "code",
      "metadata": {
        "id": "Q9EokrXwvoIs",
        "colab_type": "code",
        "colab": {
          "base_uri": "https://localhost:8080/",
          "height": 34
        },
        "outputId": "1a581696-1d2a-4439-db4d-887651353199"
      },
      "source": [
        "len(x_test)"
      ],
      "execution_count": 54,
      "outputs": [
        {
          "output_type": "execute_result",
          "data": {
            "text/plain": [
              "10000"
            ]
          },
          "metadata": {
            "tags": []
          },
          "execution_count": 54
        }
      ]
    },
    {
      "cell_type": "code",
      "metadata": {
        "id": "80VNA055w_E2",
        "colab_type": "code",
        "colab": {}
      },
      "source": [
        "n=9898  #想看第9898筆資料長怎樣"
      ],
      "execution_count": 0,
      "outputs": []
    },
    {
      "cell_type": "code",
      "metadata": {
        "id": "wM_8MDLkxA2p",
        "colab_type": "code",
        "colab": {
          "base_uri": "https://localhost:8080/",
          "height": 1000
        },
        "outputId": "9ac1b0da-4a76-42cd-c666-c514fd37ed24"
      },
      "source": [
        "x_train[n]    #看第9898筆資料長怎樣"
      ],
      "execution_count": 56,
      "outputs": [
        {
          "output_type": "execute_result",
          "data": {
            "text/plain": [
              "array([[  0,   0,   0,   0,   0,   0,   0,   0,   0,   0,   0,   0, 191,\n",
              "        204, 209,  62,   0,   0,   0,   0,   0,   0,   0,   0,   0,   0,\n",
              "          0,   0],\n",
              "       [  0,   0,   0,   0,   0,   0,   0,   0,   0,   0, 113, 215, 189,\n",
              "        175, 177, 219, 202,  15,   0,   0,   0,   0,   0,   0,   0,   0,\n",
              "          0,   0],\n",
              "       [  0,   0,   0,   0,   0,   0,   0,   0,   0,   8, 234, 238, 236,\n",
              "        232, 240, 229, 255, 123,   0,   0,   0,   0,   0,   0,   0,   0,\n",
              "          0,   0],\n",
              "       [  0,   0,   0,   0,   0,   0,   0,   0,   0,   0, 211, 233, 235,\n",
              "        238, 237, 225, 247,  85,   0,   0,   0,   0,   0,   0,   0,   0,\n",
              "          0,   0],\n",
              "       [  0,   0,   0,   0,   0,   0,   0,   0,   0,   0, 219, 231, 234,\n",
              "        239, 236, 226, 250, 106,   0,   0,   0,   0,   0,   0,   0,   0,\n",
              "          0,   0],\n",
              "       [  0,   0,   0,   0,   0,   0,   0,   0,   0,   3, 234, 229, 233,\n",
              "        240, 236, 225, 248, 139,   0,   0,   0,   0,   0,   0,   0,   0,\n",
              "          0,   0],\n",
              "       [  0,   0,   0,   0,   0,   0,   0,   0,   0,  43, 241, 229, 233,\n",
              "        244, 234, 228, 247, 187,   0,   0,   0,   0,   0,   0,   0,   0,\n",
              "          0,   0],\n",
              "       [  0,   0,   0,   0,   0,   0,   0,   0,   0,  53, 246, 234, 233,\n",
              "        242, 234, 233, 248, 182,   0,   0,   0,   0,   0,   0,   0,   0,\n",
              "          0,   0],\n",
              "       [  0,   0,   0,   0,   0,   0,   0,   0,   0,  17, 238, 238, 234,\n",
              "        239, 235, 235, 253, 175,   0,   0,   0,   0,   0,   0,   0,   0,\n",
              "          0,   0],\n",
              "       [  0,   0,   0,   0,   0,   0,   0,   0,   0,   0, 245, 246, 235,\n",
              "        237, 238, 234, 255,  99,   0,   0,   0,   0,   0,   0,   0,   0,\n",
              "          0,   0],\n",
              "       [  0,   0,   0,   0,   0,   0,   0,   0,   0,   0, 198, 251, 234,\n",
              "        237, 238, 236, 249,  50,   0,   0,   0,   0,   0,   0,   0,   0,\n",
              "          0,   0],\n",
              "       [  0,   0,   0,   0,   0,   0,   0,   0,   0,   0, 196, 250, 233,\n",
              "        236, 237, 237, 241,  11,   0,   0,   0,   0,   0,   0,   0,   0,\n",
              "          0,   0],\n",
              "       [  0,   0,   0,   0,   0,   0,   0,   0,   0,   0, 247, 246, 236,\n",
              "        238, 239, 235, 250,  63,   0,   0,   0,   0,   0,   0,   0,   0,\n",
              "          0,   0],\n",
              "       [  0,   0,   0,   0,   0,   0,   0,   0,   0,   8, 241, 237, 237,\n",
              "        238, 239, 235, 253, 174,   0,   0,   0,   0,   0,   0,   0,   0,\n",
              "          0,   0],\n",
              "       [  0,   0,   0,   0,   0,   0,   0,   0,   0,  73, 250, 233, 237,\n",
              "        238, 238, 237, 242, 252,   0,   0,   0,   0,   0,   0,   0,   0,\n",
              "          0,   0],\n",
              "       [  0,   0,   0,   0,   0,   0,   0,   0,   0, 130, 251, 235, 239,\n",
              "        238, 238, 238, 237, 241,  23,   0,   0,   0,   0,   0,   0,   0,\n",
              "          0,   0],\n",
              "       [  0,   0,   0,   0,   0,   0,   0,   0,   0, 159, 255, 232, 239,\n",
              "        238, 238, 238, 237, 248,  51,   0,   0,   0,   0,   0,   0,   0,\n",
              "          0,   0],\n",
              "       [  0,   0,   0,   0,   0,   0,   0,   0,   0, 193, 255, 234, 238,\n",
              "        238, 238, 238, 236, 248,  75,   0,   0,   0,   0,   0,   0,   0,\n",
              "          0,   0],\n",
              "       [  0,   0,   0,   0,   0,   0,   0,   0,   0, 214, 248, 237, 239,\n",
              "        238, 238, 239, 235, 249,  90,   0,   0,   0,   0,   0,   0,   0,\n",
              "          0,   0],\n",
              "       [  0,   0,   0,   0,   0,   0,   0,   0,   0, 221, 247, 238, 239,\n",
              "        239, 239, 240, 236, 251,  97,   0,   0,   0,   0,   0,   0,   0,\n",
              "          0,   0],\n",
              "       [  0,   0,   0,   0,   0,   0,   0,   0,   0, 222, 247, 238, 239,\n",
              "        239, 239, 240, 236, 251,  96,   0,   0,   0,   0,   0,   0,   0,\n",
              "          0,   0],\n",
              "       [  0,   0,   0,   0,   0,   0,   0,   0,   0, 213, 249, 237, 239,\n",
              "        239, 239, 240, 236, 250,  93,   0,   0,   0,   0,   0,   0,   0,\n",
              "          0,   0],\n",
              "       [  0,   0,   0,   0,   0,   0,   0,   0,   0, 188, 255, 235, 239,\n",
              "        239, 239, 240, 236, 249,  77,   0,   0,   0,   0,   0,   0,   0,\n",
              "          0,   0],\n",
              "       [  0,   0,   0,   0,   0,   0,   0,   0,   0, 158, 255, 234, 240,\n",
              "        239, 239, 239, 237, 250,  59,   0,   0,   0,   0,   0,   0,   0,\n",
              "          0,   0],\n",
              "       [  0,   0,   0,   0,   0,   0,   0,   0,   0, 134, 255, 236, 240,\n",
              "        240, 239, 239, 238, 247,  42,   0,   0,   0,   0,   0,   0,   0,\n",
              "          0,   0],\n",
              "       [  0,   0,   0,   0,   0,   0,   0,   0,   0, 109, 250, 235, 238,\n",
              "        236, 237, 238, 237, 243,  12,   0,   0,   0,   0,   0,   0,   0,\n",
              "          0,   0],\n",
              "       [  0,   0,   0,   0,   0,   0,   0,   0,   0,  75, 255, 241, 250,\n",
              "        251, 252, 245, 251, 243,   0,   0,   0,   0,   0,   0,   0,   0,\n",
              "          0,   0],\n",
              "       [  0,   0,   0,   0,   0,   0,   0,   0,   0,   9, 229, 209, 206,\n",
              "        207, 204, 192, 192, 147,   0,   0,   0,   0,   0,   0,   0,   0,\n",
              "          0,   0]], dtype=uint8)"
            ]
          },
          "metadata": {
            "tags": []
          },
          "execution_count": 56
        }
      ]
    },
    {
      "cell_type": "code",
      "metadata": {
        "id": "s3PFy2P8xDdu",
        "colab_type": "code",
        "colab": {
          "base_uri": "https://localhost:8080/",
          "height": 34
        },
        "outputId": "f1117bad-4cf1-4794-baa9-52f6feef7eb9"
      },
      "source": [
        "y_train[n]   #看y的第9898筆資料"
      ],
      "execution_count": 57,
      "outputs": [
        {
          "output_type": "execute_result",
          "data": {
            "text/plain": [
              "3"
            ]
          },
          "metadata": {
            "tags": []
          },
          "execution_count": 57
        }
      ]
    },
    {
      "cell_type": "code",
      "metadata": {
        "id": "mtWM9PcX4-_-",
        "colab_type": "code",
        "colab": {}
      },
      "source": [
        "class_names = ['T-shirt/top', 'Trouser', 'Pullover', 'Dress', 'Coat',\n",
        "               'Sandal', 'Shirt', 'Sneaker', 'Bag', 'Ankle boot']"
      ],
      "execution_count": 0,
      "outputs": []
    },
    {
      "cell_type": "code",
      "metadata": {
        "id": "KkR5LbJ9xHLm",
        "colab_type": "code",
        "colab": {
          "base_uri": "https://localhost:8080/",
          "height": 282
        },
        "outputId": "1b3f2d27-8b9d-40d1-bb60-6f3bb85557ee"
      },
      "source": [
        "plt.imshow(x_train[n],cmap='Oranges')    #把資料以圖形呈現，橘色"
      ],
      "execution_count": 58,
      "outputs": [
        {
          "output_type": "execute_result",
          "data": {
            "text/plain": [
              "<matplotlib.image.AxesImage at 0x7fd3f628c8d0>"
            ]
          },
          "metadata": {
            "tags": []
          },
          "execution_count": 58
        },
        {
          "output_type": "display_data",
          "data": {
            "image/png": "[encoded data removed]",
            "text/plain": [
              "<Figure size 432x288 with 1 Axes>"
            ]
          },
          "metadata": {
            "tags": []
          }
        }
      ]
    },
    {
      "cell_type": "markdown",
      "metadata": {
        "id": "FaUveXMzxePL",
        "colab_type": "text"
      },
      "source": [
        "### Step4.資料整理"
      ]
    },
    {
      "cell_type": "code",
      "metadata": {
        "id": "1Buzdp-TzIT3",
        "colab_type": "code",
        "colab": {
          "base_uri": "https://localhost:8080/",
          "height": 34
        },
        "outputId": "975028a1-96e5-4984-bc33-1dc4839418fb"
      },
      "source": [
        "x_train.shape   \n",
        "\n",
        "#有60000筆資料，是28x28的矩陣形式，想把它轉換成28x28=784的形式\n",
        "#28*28=784"
      ],
      "execution_count": 59,
      "outputs": [
        {
          "output_type": "execute_result",
          "data": {
            "text/plain": [
              "(60000, 28, 28)"
            ]
          },
          "metadata": {
            "tags": []
          },
          "execution_count": 59
        }
      ]
    },
    {
      "cell_type": "code",
      "metadata": {
        "id": "IaqyypkxzKGx",
        "colab_type": "code",
        "colab": {}
      },
      "source": [
        "x_train = x_train.reshape(60000,784)/255\n",
        "x_test = x_test.reshape(10000,784)/255\n",
        "\n",
        "#除以255的原因是因為在統計上我們喜歡讓變異數是1。"
      ],
      "execution_count": 0,
      "outputs": []
    },
    {
      "cell_type": "code",
      "metadata": {
        "id": "NvF2AMnQzUEB",
        "colab_type": "code",
        "colab": {}
      },
      "source": [
        "from tensorflow.keras.utils import to_categorical  \n",
        "\n",
        "#讀入套件，以便one heart in coding"
      ],
      "execution_count": 0,
      "outputs": []
    },
    {
      "cell_type": "code",
      "metadata": {
        "id": "YtfLaRTn01_5",
        "colab_type": "code",
        "colab": {}
      },
      "source": [
        "y_train=to_categorical(y_train,10)   #分10類"
      ],
      "execution_count": 0,
      "outputs": []
    },
    {
      "cell_type": "code",
      "metadata": {
        "id": "GOB4XdiJ1A1a",
        "colab_type": "code",
        "colab": {}
      },
      "source": [
        "y_test=to_categorical(y_test,10)"
      ],
      "execution_count": 0,
      "outputs": []
    },
    {
      "cell_type": "code",
      "metadata": {
        "id": "6Fm_xbpb1CDY",
        "colab_type": "code",
        "colab": {
          "base_uri": "https://localhost:8080/",
          "height": 34
        },
        "outputId": "21da0ae3-8bc4-4fd7-826a-e569b8f256d6"
      },
      "source": [
        "y_train[9898]    #顯示分類的結果"
      ],
      "execution_count": 64,
      "outputs": [
        {
          "output_type": "execute_result",
          "data": {
            "text/plain": [
              "array([0., 0., 0., 1., 0., 0., 0., 0., 0., 0.], dtype=float32)"
            ]
          },
          "metadata": {
            "tags": []
          },
          "execution_count": 64
        }
      ]
    },
    {
      "cell_type": "markdown",
      "metadata": {
        "id": "88nXNC3S1J6i",
        "colab_type": "text"
      },
      "source": [
        "### Step5.打造神經網路"
      ]
    },
    {
      "cell_type": "code",
      "metadata": {
        "id": "EZN7HmDW1EeV",
        "colab_type": "code",
        "colab": {}
      },
      "source": [
        "from tensorflow.keras.models import Sequential #開一個空白的函數學習機\n",
        "from tensorflow.keras.layers import Dense\n",
        "from tensorflow.keras.optimizers import SGD   #標準型"
      ],
      "execution_count": 0,
      "outputs": []
    },
    {
      "cell_type": "code",
      "metadata": {
        "id": "e59dDp561T7i",
        "colab_type": "code",
        "colab": {}
      },
      "source": [
        "model=Sequential()      \n",
        "\n",
        "#model只是名稱，可以任意換 \n",
        "#打開學習機"
      ],
      "execution_count": 0,
      "outputs": []
    },
    {
      "cell_type": "code",
      "metadata": {
        "id": "RpqnRS1D1W3E",
        "colab_type": "code",
        "colab": {}
      },
      "source": [
        "model.add(Dense(180,input_dim=784,activation='relu'))  #第一層"
      ],
      "execution_count": 0,
      "outputs": []
    },
    {
      "cell_type": "code",
      "metadata": {
        "id": "CAp3xDoJ1oRG",
        "colab_type": "code",
        "colab": {}
      },
      "source": [
        "model.add(Dense(180,activation='relu'))   #第二層"
      ],
      "execution_count": 0,
      "outputs": []
    },
    {
      "cell_type": "code",
      "metadata": {
        "id": "6hbs9n6u1zkw",
        "colab_type": "code",
        "colab": {}
      },
      "source": [
        "model.add(Dense(180,activation='relu')) "
      ],
      "execution_count": 0,
      "outputs": []
    },
    {
      "cell_type": "code",
      "metadata": {
        "id": "_9c7tOk31ztK",
        "colab_type": "code",
        "colab": {}
      },
      "source": [
        "model.add(Dense(180,activation='relu')) "
      ],
      "execution_count": 0,
      "outputs": []
    },
    {
      "cell_type": "code",
      "metadata": {
        "id": "d-GCMZdz1z0P",
        "colab_type": "code",
        "colab": {}
      },
      "source": [
        "model.add(Dense(180,activation='relu')) "
      ],
      "execution_count": 0,
      "outputs": []
    },
    {
      "cell_type": "code",
      "metadata": {
        "id": "Tq7x9gSw1r6a",
        "colab_type": "code",
        "colab": {}
      },
      "source": [
        "model.add(Dense(10,activation='softmax'))    \n",
        "#最後一層，共10個神經元\n",
        "#輸出成10個數字，全部限定在0到1中間，而且加起來總合為1"
      ],
      "execution_count": 0,
      "outputs": []
    },
    {
      "cell_type": "markdown",
      "metadata": {
        "id": "VAN4G0SZ2F-c",
        "colab_type": "text"
      },
      "source": [
        "### Step6.組裝神經網路"
      ]
    },
    {
      "cell_type": "code",
      "metadata": {
        "id": "1tQB5CXU2BfP",
        "colab_type": "code",
        "colab": {}
      },
      "source": [
        "model.compile(loss='mse',optimizer=SGD(lr=0.09), metrics=['accuracy'])   \n",
        "#指定learning rate在0.09"
      ],
      "execution_count": 0,
      "outputs": []
    },
    {
      "cell_type": "code",
      "metadata": {
        "id": "46GlQ9B92YgM",
        "colab_type": "code",
        "colab": {
          "base_uri": "https://localhost:8080/",
          "height": 726
        },
        "outputId": "124f21d2-d603-4d2f-9ab4-6ad241602a4a"
      },
      "source": [
        "model.fit(x_train,y_train,batch_size=100,epochs=20)    \n",
        "\n",
        "#正確率0.8687"
      ],
      "execution_count": 76,
      "outputs": [
        {
          "output_type": "stream",
          "text": [
            "Epoch 1/20\n",
            "600/600 [==============================] - 4s 7ms/step - loss: 0.0884 - accuracy: 0.1301\n",
            "Epoch 2/20\n",
            "600/600 [==============================] - 4s 7ms/step - loss: 0.0846 - accuracy: 0.2418\n",
            "Epoch 3/20\n",
            "600/600 [==============================] - 4s 7ms/step - loss: 0.0748 - accuracy: 0.4191\n",
            "Epoch 4/20\n",
            "600/600 [==============================] - 4s 7ms/step - loss: 0.0564 - accuracy: 0.5704\n",
            "Epoch 5/20\n",
            "600/600 [==============================] - 4s 7ms/step - loss: 0.0434 - accuracy: 0.7058\n",
            "Epoch 6/20\n",
            "600/600 [==============================] - 4s 7ms/step - loss: 0.0340 - accuracy: 0.7674\n",
            "Epoch 7/20\n",
            "600/600 [==============================] - 4s 7ms/step - loss: 0.0293 - accuracy: 0.8006\n",
            "Epoch 8/20\n",
            "600/600 [==============================] - 4s 7ms/step - loss: 0.0272 - accuracy: 0.8154\n",
            "Epoch 9/20\n",
            "600/600 [==============================] - 4s 7ms/step - loss: 0.0257 - accuracy: 0.8261\n",
            "Epoch 10/20\n",
            "600/600 [==============================] - 4s 7ms/step - loss: 0.0247 - accuracy: 0.8323\n",
            "Epoch 11/20\n",
            "600/600 [==============================] - 4s 7ms/step - loss: 0.0238 - accuracy: 0.8389\n",
            "Epoch 12/20\n",
            "600/600 [==============================] - 4s 7ms/step - loss: 0.0231 - accuracy: 0.8424\n",
            "Epoch 13/20\n",
            "600/600 [==============================] - 4s 7ms/step - loss: 0.0225 - accuracy: 0.8465\n",
            "Epoch 14/20\n",
            "600/600 [==============================] - 4s 7ms/step - loss: 0.0219 - accuracy: 0.8516\n",
            "Epoch 15/20\n",
            "600/600 [==============================] - 4s 7ms/step - loss: 0.0214 - accuracy: 0.8556\n",
            "Epoch 16/20\n",
            "600/600 [==============================] - 4s 7ms/step - loss: 0.0208 - accuracy: 0.8589\n",
            "Epoch 17/20\n",
            "600/600 [==============================] - 4s 7ms/step - loss: 0.0205 - accuracy: 0.8604\n",
            "Epoch 18/20\n",
            "600/600 [==============================] - 4s 7ms/step - loss: 0.0201 - accuracy: 0.8637\n",
            "Epoch 19/20\n",
            "600/600 [==============================] - 4s 7ms/step - loss: 0.0197 - accuracy: 0.8666\n",
            "Epoch 20/20\n",
            "600/600 [==============================] - 4s 7ms/step - loss: 0.0194 - accuracy: 0.8687\n"
          ],
          "name": "stdout"
        },
        {
          "output_type": "execute_result",
          "data": {
            "text/plain": [
              "<tensorflow.python.keras.callbacks.History at 0x7fd3eff625c0>"
            ]
          },
          "metadata": {
            "tags": []
          },
          "execution_count": 76
        }
      ]
    },
    {
      "cell_type": "code",
      "metadata": {
        "id": "JT5WP9bq2smz",
        "colab_type": "code",
        "colab": {
          "base_uri": "https://localhost:8080/",
          "height": 726
        },
        "outputId": "940cca80-5cdf-419f-a05e-bbf6af71903f"
      },
      "source": [
        "model.fit(x_train,y_train,batch_size=100,epochs=20)  \n",
        "\n",
        "#再跑一次，正確率0.8970"
      ],
      "execution_count": 77,
      "outputs": [
        {
          "output_type": "stream",
          "text": [
            "Epoch 1/20\n",
            "600/600 [==============================] - 4s 7ms/step - loss: 0.0192 - accuracy: 0.8707\n",
            "Epoch 2/20\n",
            "600/600 [==============================] - 4s 7ms/step - loss: 0.0188 - accuracy: 0.8721\n",
            "Epoch 3/20\n",
            "600/600 [==============================] - 4s 7ms/step - loss: 0.0186 - accuracy: 0.8746\n",
            "Epoch 4/20\n",
            "600/600 [==============================] - 4s 7ms/step - loss: 0.0183 - accuracy: 0.8764\n",
            "Epoch 5/20\n",
            "600/600 [==============================] - 4s 7ms/step - loss: 0.0181 - accuracy: 0.8787\n",
            "Epoch 6/20\n",
            "600/600 [==============================] - 4s 7ms/step - loss: 0.0178 - accuracy: 0.8798\n",
            "Epoch 7/20\n",
            "600/600 [==============================] - 4s 7ms/step - loss: 0.0176 - accuracy: 0.8814\n",
            "Epoch 8/20\n",
            "600/600 [==============================] - 4s 7ms/step - loss: 0.0174 - accuracy: 0.8827\n",
            "Epoch 9/20\n",
            "600/600 [==============================] - 4s 7ms/step - loss: 0.0172 - accuracy: 0.8841\n",
            "Epoch 10/20\n",
            "600/600 [==============================] - 4s 7ms/step - loss: 0.0169 - accuracy: 0.8856\n",
            "Epoch 11/20\n",
            "600/600 [==============================] - 4s 7ms/step - loss: 0.0168 - accuracy: 0.8871\n",
            "Epoch 12/20\n",
            "600/600 [==============================] - 4s 7ms/step - loss: 0.0166 - accuracy: 0.8884\n",
            "Epoch 13/20\n",
            "600/600 [==============================] - 4s 7ms/step - loss: 0.0164 - accuracy: 0.8897\n",
            "Epoch 14/20\n",
            "600/600 [==============================] - 4s 7ms/step - loss: 0.0163 - accuracy: 0.8913\n",
            "Epoch 15/20\n",
            "600/600 [==============================] - 4s 7ms/step - loss: 0.0161 - accuracy: 0.8914\n",
            "Epoch 16/20\n",
            "600/600 [==============================] - 4s 7ms/step - loss: 0.0159 - accuracy: 0.8932\n",
            "Epoch 17/20\n",
            "600/600 [==============================] - 4s 7ms/step - loss: 0.0158 - accuracy: 0.8941\n",
            "Epoch 18/20\n",
            "600/600 [==============================] - 4s 7ms/step - loss: 0.0156 - accuracy: 0.8946\n",
            "Epoch 19/20\n",
            "600/600 [==============================] - 4s 7ms/step - loss: 0.0155 - accuracy: 0.8970\n",
            "Epoch 20/20\n",
            "600/600 [==============================] - 4s 7ms/step - loss: 0.0154 - accuracy: 0.8970\n"
          ],
          "name": "stdout"
        },
        {
          "output_type": "execute_result",
          "data": {
            "text/plain": [
              "<tensorflow.python.keras.callbacks.History at 0x7fd3efe2e668>"
            ]
          },
          "metadata": {
            "tags": []
          },
          "execution_count": 77
        }
      ]
    },
    {
      "cell_type": "code",
      "metadata": {
        "id": "a9lbKOZa3QKm",
        "colab_type": "code",
        "colab": {
          "base_uri": "https://localhost:8080/",
          "height": 726
        },
        "outputId": "3e68cd91-f163-4b68-9488-41999ba33617"
      },
      "source": [
        "model.fit(x_train,y_train,batch_size=100,epochs=20)  \n",
        "\n",
        "#再跑一次，最終正確率0.9149"
      ],
      "execution_count": 78,
      "outputs": [
        {
          "output_type": "stream",
          "text": [
            "Epoch 1/20\n",
            "600/600 [==============================] - 4s 7ms/step - loss: 0.0152 - accuracy: 0.8992\n",
            "Epoch 2/20\n",
            "600/600 [==============================] - 4s 7ms/step - loss: 0.0152 - accuracy: 0.8977\n",
            "Epoch 3/20\n",
            "600/600 [==============================] - 4s 7ms/step - loss: 0.0149 - accuracy: 0.8994\n",
            "Epoch 4/20\n",
            "600/600 [==============================] - 4s 7ms/step - loss: 0.0147 - accuracy: 0.9020\n",
            "Epoch 5/20\n",
            "600/600 [==============================] - 4s 7ms/step - loss: 0.0147 - accuracy: 0.9028\n",
            "Epoch 6/20\n",
            "600/600 [==============================] - 4s 7ms/step - loss: 0.0146 - accuracy: 0.9028\n",
            "Epoch 7/20\n",
            "600/600 [==============================] - 4s 7ms/step - loss: 0.0145 - accuracy: 0.9031\n",
            "Epoch 8/20\n",
            "600/600 [==============================] - 4s 7ms/step - loss: 0.0143 - accuracy: 0.9044\n",
            "Epoch 9/20\n",
            "600/600 [==============================] - 4s 7ms/step - loss: 0.0142 - accuracy: 0.9054\n",
            "Epoch 10/20\n",
            "600/600 [==============================] - 4s 7ms/step - loss: 0.0141 - accuracy: 0.9065\n",
            "Epoch 11/20\n",
            "600/600 [==============================] - 4s 7ms/step - loss: 0.0139 - accuracy: 0.9081\n",
            "Epoch 12/20\n",
            "600/600 [==============================] - 4s 7ms/step - loss: 0.0138 - accuracy: 0.9085\n",
            "Epoch 13/20\n",
            "600/600 [==============================] - 4s 7ms/step - loss: 0.0137 - accuracy: 0.9091\n",
            "Epoch 14/20\n",
            "600/600 [==============================] - 4s 7ms/step - loss: 0.0136 - accuracy: 0.9114\n",
            "Epoch 15/20\n",
            "600/600 [==============================] - 4s 7ms/step - loss: 0.0136 - accuracy: 0.9103\n",
            "Epoch 16/20\n",
            "600/600 [==============================] - 4s 7ms/step - loss: 0.0133 - accuracy: 0.9130\n",
            "Epoch 17/20\n",
            "600/600 [==============================] - 4s 7ms/step - loss: 0.0132 - accuracy: 0.9135\n",
            "Epoch 18/20\n",
            "600/600 [==============================] - 4s 7ms/step - loss: 0.0132 - accuracy: 0.9129\n",
            "Epoch 19/20\n",
            "600/600 [==============================] - 4s 7ms/step - loss: 0.0130 - accuracy: 0.9142\n",
            "Epoch 20/20\n",
            "600/600 [==============================] - 4s 7ms/step - loss: 0.0130 - accuracy: 0.9149\n"
          ],
          "name": "stdout"
        },
        {
          "output_type": "execute_result",
          "data": {
            "text/plain": [
              "<tensorflow.python.keras.callbacks.History at 0x7fd3ed0cd4a8>"
            ]
          },
          "metadata": {
            "tags": []
          },
          "execution_count": 78
        }
      ]
    },
    {
      "cell_type": "markdown",
      "metadata": {
        "id": "_BLJIrdE4QUC",
        "colab_type": "text"
      },
      "source": [
        "### Step7.訓練成果\n"
      ]
    },
    {
      "cell_type": "code",
      "metadata": {
        "id": "QJdhqXUI4WZa",
        "colab_type": "code",
        "colab": {
          "base_uri": "https://localhost:8080/",
          "height": 87
        },
        "outputId": "7214a403-c243-456d-aa53-a201ab9b1e1d"
      },
      "source": [
        "result=model.predict_classes(x_test)"
      ],
      "execution_count": 79,
      "outputs": [
        {
          "output_type": "stream",
          "text": [
            "WARNING:tensorflow:From <ipython-input-79-fb35951f79d2>:1: Sequential.predict_classes (from tensorflow.python.keras.engine.sequential) is deprecated and will be removed after 2021-01-01.\n",
            "Instructions for updating:\n",
            "Please use instead:* `np.argmax(model.predict(x), axis=-1)`,   if your model does multi-class classification   (e.g. if it uses a `softmax` last-layer activation).* `(model.predict(x) > 0.5).astype(\"int32\")`,   if your model does binary classification   (e.g. if it uses a `sigmoid` last-layer activation).\n"
          ],
          "name": "stdout"
        }
      ]
    },
    {
      "cell_type": "code",
      "metadata": {
        "id": "-HPDdUZj4ine",
        "colab_type": "code",
        "colab": {
          "base_uri": "https://localhost:8080/",
          "height": 298
        },
        "outputId": "3d73e5ce-afa2-49ee-ba85-3dc710c9f838"
      },
      "source": [
        "n = 8888\n",
        "print('神經網路預測是:', class_names[result[n]])\n",
        "# print('真正的答案是:', [y_test[n]])\n",
        "plt.imshow(x_test[n].reshape(28,28), cmap='RdPu')"
      ],
      "execution_count": 88,
      "outputs": [
        {
          "output_type": "stream",
          "text": [
            "神經網路預測是: Bag\n"
          ],
          "name": "stdout"
        },
        {
          "output_type": "execute_result",
          "data": {
            "text/plain": [
              "<matplotlib.image.AxesImage at 0x7fd3ed0bae10>"
            ]
          },
          "metadata": {
            "tags": []
          },
          "execution_count": 88
        },
        {
          "output_type": "display_data",
          "data": {
            "image/png": "[encoded data removed]",
            "text/plain": [
              "<Figure size 432x288 with 1 Axes>"
            ]
          },
          "metadata": {
            "tags": []
          }
        }
      ]
    },
    {
      "cell_type": "code",
      "metadata": {
        "id": "xQ-tcwWV401j",
        "colab_type": "code",
        "colab": {
          "base_uri": "https://localhost:8080/",
          "height": 34
        },
        "outputId": "bfcb6242-5caf-4958-a5ce-2ef7782c9cf5"
      },
      "source": [
        "class_names[result[1234]]"
      ],
      "execution_count": 87,
      "outputs": [
        {
          "output_type": "execute_result",
          "data": {
            "text/plain": [
              "'Coat'"
            ]
          },
          "metadata": {
            "tags": []
          },
          "execution_count": 87
        }
      ]
    },
    {
      "cell_type": "code",
      "metadata": {
        "id": "9dyw6l-T5M-l",
        "colab_type": "code",
        "colab": {
          "base_uri": "https://localhost:8080/",
          "height": 145
        },
        "outputId": "e1bfd558-2e95-44bd-a998-e9670b4e1905"
      },
      "source": [
        "for i in range(3):\n",
        "    plt.subplot(1,3,i+1)\n",
        "    plt.imshow(x_test[i].reshape(28,28), cmap='Blues')\n",
        "    plt.title(class_names[result[i]])\n",
        "    plt.axis(\"off\")"
      ],
      "execution_count": 98,
      "outputs": [
        {
          "output_type": "display_data",
          "data": {
            "image/png": "[encoded data removed]",
            "text/plain": [
              "<Figure size 432x288 with 3 Axes>"
            ]
          },
          "metadata": {
            "tags": []
          }
        }
      ]
    },
    {
      "cell_type": "code",
      "metadata": {
        "id": "wk8Is5w45tUo",
        "colab_type": "code",
        "colab": {}
      },
      "source": [
        ""
      ],
      "execution_count": 0,
      "outputs": []
    }
  ]
}
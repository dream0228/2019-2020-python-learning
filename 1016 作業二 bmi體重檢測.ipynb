{
 "cells": [
  {
   "cell_type": "code",
   "execution_count": 3,
   "metadata": {
    "collapsed": true
   },
   "outputs": [],
   "source": [
    "%matplotlib inline\n",
    "\n",
    "import numpy as np\n",
    "import matplotlib.pyplot as plt\n",
    "import pandas as pd"
   ]
  },
  {
   "cell_type": "markdown",
   "metadata": {},
   "source": [
    "# BMI 公式為:體重(公斤)/(身高(公尺))**2"
   ]
  },
  {
   "cell_type": "code",
   "execution_count": 8,
   "metadata": {},
   "outputs": [
    {
     "name": "stdout",
     "output_type": "stream",
     "text": [
      "請輸入你的體重(公斤): 55\n",
      "請輸入你的身高(公分): 165\n",
      "BMI = 20.20\n",
      "結果: 讚讚，體重正常~\n"
     ]
    }
   ],
   "source": [
    "weight = eval(input(\"請輸入你的體重(公斤): \"))\n",
    "height = eval(input(\"請輸入你的身高(公分): \"))\n",
    "\n",
    "\n",
    "weightInKilograms = weight\n",
    "heightInMeters = height / 100\n",
    "bmi = weightInKilograms / ( heightInMeters ** 2 )\n",
    "\n",
    "print(\"BMI =\", format(bmi, \".2f\"))\n",
    "if bmi < 18.5:\n",
    "    print(\"結果: 體重過輕，多吃點\")\n",
    "elif bmi < 25:\n",
    "    print(\"結果: 讚讚，體重正常~\")\n",
    "elif bmi < 30:\n",
    "    print(\"結果: 過重囉，注意一下\")\n",
    "else:\n",
    "    print(\"結果: 肥胖!不要再吃了，多動動\")"
   ]
  },
  {
   "cell_type": "code",
   "execution_count": null,
   "metadata": {
    "collapsed": true
   },
   "outputs": [],
   "source": []
  }
 ],
 "metadata": {
  "kernelspec": {
   "display_name": "Python 3",
   "language": "python",
   "name": "python3"
  },
  "language_info": {
   "codemirror_mode": {
    "name": "ipython",
    "version": 3
   },
   "file_extension": ".py",
   "mimetype": "text/x-python",
   "name": "python",
   "nbconvert_exporter": "python",
   "pygments_lexer": "ipython3",
   "version": "3.6.2"
  }
 },
 "nbformat": 4,
 "nbformat_minor": 2
}
